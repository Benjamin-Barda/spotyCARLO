{
 "cells": [
  {
   "cell_type": "markdown",
   "metadata": {},
   "source": [
    "# Table of Contents"
   ]
  },
  {
   "cell_type": "markdown",
   "metadata": {},
   "source": [
    "1. [Imports](#import)\n",
    "2. [Function for reading the csv files and dropping the unwanted columns](#readfile)\n",
    "3. [Standardize the data](#standardise)\n",
    "4. [Confusion Matrix, Classification Report and Accuracy Report](#confusionmatrix)\n",
    "5. [Explanation of k-means and k-means++](#exp)\n",
    "6. [Naive Bayes Classifier Explanation](#naive)\n",
    "7. [Gaussian Naive Bayes Explanation](#gaus)\n",
    "8. [Getiing the MLE for the Mean and the Variance](#mle)\n",
    "9. [Naive Bayes Classifier Implementation](#impnaive)\n",
    "10. [Plot the Confusion Matrix and print the Classification Report and Accuracy Score](#conf)\n",
    "11. [Train and Prediction](#train)\n"
   ]
  },
  {
   "cell_type": "markdown",
   "metadata": {},
   "source": [
    "### <a id=\"import\"></a> Imports"
   ]
  },
  {
   "cell_type": "code",
   "execution_count": 1,
   "metadata": {},
   "outputs": [],
   "source": [
    "import numpy as np\n",
    "import pandas as pd\n",
    "import matplotlib.pyplot as plt\n",
    "import sklearn\n",
    "import os\n",
    "from sklearn.model_selection import train_test_split\n",
    "from sklearn.metrics import accuracy_score, confusion_matrix, classification_report\n",
    "import seaborn as sns\n",
    "from sklearn.cluster import KMeans\n"
   ]
  },
  {
   "cell_type": "markdown",
   "metadata": {},
   "source": [
    "### <a id=\"readfile\"></a> Function for reading the csv files and dropping the unwanted columns"
   ]
  },
  {
   "cell_type": "code",
   "execution_count": 2,
   "metadata": {},
   "outputs": [
    {
     "name": "stdout",
     "output_type": "stream",
     "text": [
      "[0 0 0 ... 3 3 3]\n"
     ]
    },
    {
     "data": {
      "text/html": [
       "<div>\n",
       "<style scoped>\n",
       "    .dataframe tbody tr th:only-of-type {\n",
       "        vertical-align: middle;\n",
       "    }\n",
       "\n",
       "    .dataframe tbody tr th {\n",
       "        vertical-align: top;\n",
       "    }\n",
       "\n",
       "    .dataframe thead th {\n",
       "        text-align: right;\n",
       "    }\n",
       "</style>\n",
       "<table border=\"1\" class=\"dataframe\">\n",
       "  <thead>\n",
       "    <tr style=\"text-align: right;\">\n",
       "      <th></th>\n",
       "      <th>danceability</th>\n",
       "      <th>energy</th>\n",
       "      <th>key</th>\n",
       "      <th>loudness</th>\n",
       "      <th>mode</th>\n",
       "      <th>speechiness</th>\n",
       "      <th>acousticness</th>\n",
       "      <th>instrumentalness</th>\n",
       "      <th>liveness</th>\n",
       "      <th>valence</th>\n",
       "      <th>tempo</th>\n",
       "      <th>time_signature</th>\n",
       "      <th>label</th>\n",
       "    </tr>\n",
       "  </thead>\n",
       "  <tbody>\n",
       "    <tr>\n",
       "      <th>0</th>\n",
       "      <td>0.2750</td>\n",
       "      <td>0.1570</td>\n",
       "      <td>7</td>\n",
       "      <td>-18.752</td>\n",
       "      <td>1</td>\n",
       "      <td>0.0636</td>\n",
       "      <td>0.89000</td>\n",
       "      <td>0.842000</td>\n",
       "      <td>0.1860</td>\n",
       "      <td>0.3040</td>\n",
       "      <td>73.289</td>\n",
       "      <td>4</td>\n",
       "      <td>classic</td>\n",
       "    </tr>\n",
       "    <tr>\n",
       "      <th>1</th>\n",
       "      <td>0.2210</td>\n",
       "      <td>0.1260</td>\n",
       "      <td>0</td>\n",
       "      <td>-25.427</td>\n",
       "      <td>1</td>\n",
       "      <td>0.0447</td>\n",
       "      <td>0.98900</td>\n",
       "      <td>0.897000</td>\n",
       "      <td>0.1020</td>\n",
       "      <td>0.2160</td>\n",
       "      <td>133.630</td>\n",
       "      <td>4</td>\n",
       "      <td>classic</td>\n",
       "    </tr>\n",
       "    <tr>\n",
       "      <th>2</th>\n",
       "      <td>0.2890</td>\n",
       "      <td>0.0306</td>\n",
       "      <td>9</td>\n",
       "      <td>-30.790</td>\n",
       "      <td>0</td>\n",
       "      <td>0.0446</td>\n",
       "      <td>0.98700</td>\n",
       "      <td>0.911000</td>\n",
       "      <td>0.1020</td>\n",
       "      <td>0.1180</td>\n",
       "      <td>125.610</td>\n",
       "      <td>3</td>\n",
       "      <td>classic</td>\n",
       "    </tr>\n",
       "    <tr>\n",
       "      <th>3</th>\n",
       "      <td>0.0753</td>\n",
       "      <td>0.0700</td>\n",
       "      <td>2</td>\n",
       "      <td>-27.272</td>\n",
       "      <td>1</td>\n",
       "      <td>0.0440</td>\n",
       "      <td>0.91800</td>\n",
       "      <td>0.947000</td>\n",
       "      <td>0.1460</td>\n",
       "      <td>0.0625</td>\n",
       "      <td>79.801</td>\n",
       "      <td>4</td>\n",
       "      <td>classic</td>\n",
       "    </tr>\n",
       "    <tr>\n",
       "      <th>4</th>\n",
       "      <td>0.1300</td>\n",
       "      <td>0.1580</td>\n",
       "      <td>2</td>\n",
       "      <td>-16.132</td>\n",
       "      <td>1</td>\n",
       "      <td>0.0350</td>\n",
       "      <td>0.74800</td>\n",
       "      <td>0.924000</td>\n",
       "      <td>0.1000</td>\n",
       "      <td>0.0998</td>\n",
       "      <td>85.031</td>\n",
       "      <td>4</td>\n",
       "      <td>classic</td>\n",
       "    </tr>\n",
       "    <tr>\n",
       "      <th>...</th>\n",
       "      <td>...</td>\n",
       "      <td>...</td>\n",
       "      <td>...</td>\n",
       "      <td>...</td>\n",
       "      <td>...</td>\n",
       "      <td>...</td>\n",
       "      <td>...</td>\n",
       "      <td>...</td>\n",
       "      <td>...</td>\n",
       "      <td>...</td>\n",
       "      <td>...</td>\n",
       "      <td>...</td>\n",
       "      <td>...</td>\n",
       "    </tr>\n",
       "    <tr>\n",
       "      <th>45</th>\n",
       "      <td>0.6510</td>\n",
       "      <td>0.7610</td>\n",
       "      <td>10</td>\n",
       "      <td>-7.801</td>\n",
       "      <td>1</td>\n",
       "      <td>0.2500</td>\n",
       "      <td>0.44600</td>\n",
       "      <td>0.000035</td>\n",
       "      <td>0.1110</td>\n",
       "      <td>0.8690</td>\n",
       "      <td>139.526</td>\n",
       "      <td>4</td>\n",
       "      <td>rap</td>\n",
       "    </tr>\n",
       "    <tr>\n",
       "      <th>46</th>\n",
       "      <td>0.8710</td>\n",
       "      <td>0.6390</td>\n",
       "      <td>7</td>\n",
       "      <td>-7.821</td>\n",
       "      <td>1</td>\n",
       "      <td>0.3490</td>\n",
       "      <td>0.12100</td>\n",
       "      <td>0.000000</td>\n",
       "      <td>0.1930</td>\n",
       "      <td>0.7640</td>\n",
       "      <td>141.060</td>\n",
       "      <td>4</td>\n",
       "      <td>rap</td>\n",
       "    </tr>\n",
       "    <tr>\n",
       "      <th>47</th>\n",
       "      <td>0.6170</td>\n",
       "      <td>0.4770</td>\n",
       "      <td>1</td>\n",
       "      <td>-9.889</td>\n",
       "      <td>1</td>\n",
       "      <td>0.3600</td>\n",
       "      <td>0.00422</td>\n",
       "      <td>0.000000</td>\n",
       "      <td>0.0830</td>\n",
       "      <td>0.4360</td>\n",
       "      <td>99.095</td>\n",
       "      <td>4</td>\n",
       "      <td>rap</td>\n",
       "    </tr>\n",
       "    <tr>\n",
       "      <th>48</th>\n",
       "      <td>0.8500</td>\n",
       "      <td>0.5640</td>\n",
       "      <td>1</td>\n",
       "      <td>-9.631</td>\n",
       "      <td>0</td>\n",
       "      <td>0.3830</td>\n",
       "      <td>0.23800</td>\n",
       "      <td>0.000000</td>\n",
       "      <td>0.1110</td>\n",
       "      <td>0.3480</td>\n",
       "      <td>139.920</td>\n",
       "      <td>4</td>\n",
       "      <td>rap</td>\n",
       "    </tr>\n",
       "    <tr>\n",
       "      <th>49</th>\n",
       "      <td>0.7360</td>\n",
       "      <td>0.5180</td>\n",
       "      <td>10</td>\n",
       "      <td>-11.607</td>\n",
       "      <td>0</td>\n",
       "      <td>0.4680</td>\n",
       "      <td>0.37900</td>\n",
       "      <td>0.000000</td>\n",
       "      <td>0.0989</td>\n",
       "      <td>0.7710</td>\n",
       "      <td>142.079</td>\n",
       "      <td>4</td>\n",
       "      <td>rap</td>\n",
       "    </tr>\n",
       "  </tbody>\n",
       "</table>\n",
       "<p>1382 rows × 13 columns</p>\n",
       "</div>"
      ],
      "text/plain": [
       "    danceability  energy  key  loudness  mode  speechiness  acousticness  \\\n",
       "0         0.2750  0.1570    7   -18.752     1       0.0636       0.89000   \n",
       "1         0.2210  0.1260    0   -25.427     1       0.0447       0.98900   \n",
       "2         0.2890  0.0306    9   -30.790     0       0.0446       0.98700   \n",
       "3         0.0753  0.0700    2   -27.272     1       0.0440       0.91800   \n",
       "4         0.1300  0.1580    2   -16.132     1       0.0350       0.74800   \n",
       "..           ...     ...  ...       ...   ...          ...           ...   \n",
       "45        0.6510  0.7610   10    -7.801     1       0.2500       0.44600   \n",
       "46        0.8710  0.6390    7    -7.821     1       0.3490       0.12100   \n",
       "47        0.6170  0.4770    1    -9.889     1       0.3600       0.00422   \n",
       "48        0.8500  0.5640    1    -9.631     0       0.3830       0.23800   \n",
       "49        0.7360  0.5180   10   -11.607     0       0.4680       0.37900   \n",
       "\n",
       "    instrumentalness  liveness  valence    tempo  time_signature    label  \n",
       "0           0.842000    0.1860   0.3040   73.289               4  classic  \n",
       "1           0.897000    0.1020   0.2160  133.630               4  classic  \n",
       "2           0.911000    0.1020   0.1180  125.610               3  classic  \n",
       "3           0.947000    0.1460   0.0625   79.801               4  classic  \n",
       "4           0.924000    0.1000   0.0998   85.031               4  classic  \n",
       "..               ...       ...      ...      ...             ...      ...  \n",
       "45          0.000035    0.1110   0.8690  139.526               4      rap  \n",
       "46          0.000000    0.1930   0.7640  141.060               4      rap  \n",
       "47          0.000000    0.0830   0.4360   99.095               4      rap  \n",
       "48          0.000000    0.1110   0.3480  139.920               4      rap  \n",
       "49          0.000000    0.0989   0.7710  142.079               4      rap  \n",
       "\n",
       "[1382 rows x 13 columns]"
      ]
     },
     "execution_count": 2,
     "metadata": {},
     "output_type": "execute_result"
    }
   ],
   "source": [
    "cols_to_drop = ['id', 'uri', 'duration_ms']\n",
    "file_name = r\"data\\csvs\\dataframeV1.csv\"\n",
    "\n",
    "def read_csv_files(file_name, cols_to_drop=cols_to_drop): \n",
    "    df = pd.read_csv(file_name, index_col=0)\n",
    "    df.drop(cols_to_drop, axis=1, inplace=True)\n",
    "    \n",
    "    labels = df['label']\n",
    "    \n",
    "    # This makes the categorical labels numbers. Print it to see... Better than labels.cat.codes\n",
    "    y = labels.factorize()[0]\n",
    "    \n",
    "    # Add new axis to y in order to be able to transpose it when needed \n",
    "    # y = y[:, np.newaxis]\n",
    "    return df, y\n",
    "\n",
    "df, y = read_csv_files(file_name)\n",
    "print(y)\n",
    "df"
   ]
  },
  {
   "cell_type": "markdown",
   "metadata": {},
   "source": [
    "### <a id=\"standardise\"></a> Standardize the data\n",
    "\n",
    "We can drop the labels of our training data and then convert them on a single scale. We can standardize the values using the below formula.\n",
    "\n",
    "$$x_i = \\frac{{x}_i - mean(x)} {\\sigma(x)} $$\n",
    "\n",
    "It’s recommended to standardize the data to have a mean of zero and a standard deviation of one since almost always the features in any dataset would have different units of measurements such as age vs income."
   ]
  },
  {
   "cell_type": "code",
   "execution_count": 5,
   "metadata": {},
   "outputs": [
    {
     "data": {
      "text/html": [
       "<div>\n",
       "<style scoped>\n",
       "    .dataframe tbody tr th:only-of-type {\n",
       "        vertical-align: middle;\n",
       "    }\n",
       "\n",
       "    .dataframe tbody tr th {\n",
       "        vertical-align: top;\n",
       "    }\n",
       "\n",
       "    .dataframe thead th {\n",
       "        text-align: right;\n",
       "    }\n",
       "</style>\n",
       "<table border=\"1\" class=\"dataframe\">\n",
       "  <thead>\n",
       "    <tr style=\"text-align: right;\">\n",
       "      <th></th>\n",
       "      <th>danceability</th>\n",
       "      <th>energy</th>\n",
       "      <th>key</th>\n",
       "      <th>loudness</th>\n",
       "      <th>mode</th>\n",
       "      <th>speechiness</th>\n",
       "      <th>acousticness</th>\n",
       "      <th>instrumentalness</th>\n",
       "      <th>liveness</th>\n",
       "      <th>valence</th>\n",
       "      <th>tempo</th>\n",
       "      <th>time_signature</th>\n",
       "    </tr>\n",
       "  </thead>\n",
       "  <tbody>\n",
       "    <tr>\n",
       "      <th>0</th>\n",
       "      <td>-1.100925</td>\n",
       "      <td>-1.050292</td>\n",
       "      <td>0.511531</td>\n",
       "      <td>-0.834979</td>\n",
       "      <td>0.903018</td>\n",
       "      <td>-0.373430</td>\n",
       "      <td>1.090495</td>\n",
       "      <td>1.715003</td>\n",
       "      <td>0.113724</td>\n",
       "      <td>-0.370043</td>\n",
       "      <td>-1.362347</td>\n",
       "      <td>0.252684</td>\n",
       "    </tr>\n",
       "    <tr>\n",
       "      <th>1</th>\n",
       "      <td>-1.368146</td>\n",
       "      <td>-1.141622</td>\n",
       "      <td>-1.470268</td>\n",
       "      <td>-1.661467</td>\n",
       "      <td>0.903018</td>\n",
       "      <td>-0.563558</td>\n",
       "      <td>1.329736</td>\n",
       "      <td>1.869971</td>\n",
       "      <td>-0.530812</td>\n",
       "      <td>-0.735956</td>\n",
       "      <td>0.579970</td>\n",
       "      <td>0.252684</td>\n",
       "    </tr>\n",
       "    <tr>\n",
       "      <th>2</th>\n",
       "      <td>-1.031645</td>\n",
       "      <td>-1.422685</td>\n",
       "      <td>1.077759</td>\n",
       "      <td>-2.325506</td>\n",
       "      <td>-1.106597</td>\n",
       "      <td>-0.564564</td>\n",
       "      <td>1.324903</td>\n",
       "      <td>1.909417</td>\n",
       "      <td>-0.530812</td>\n",
       "      <td>-1.143451</td>\n",
       "      <td>0.321814</td>\n",
       "      <td>-1.850984</td>\n",
       "    </tr>\n",
       "    <tr>\n",
       "      <th>3</th>\n",
       "      <td>-2.089151</td>\n",
       "      <td>-1.306607</td>\n",
       "      <td>-0.904040</td>\n",
       "      <td>-1.889913</td>\n",
       "      <td>0.903018</td>\n",
       "      <td>-0.570600</td>\n",
       "      <td>1.158159</td>\n",
       "      <td>2.010851</td>\n",
       "      <td>-0.193198</td>\n",
       "      <td>-1.374226</td>\n",
       "      <td>-1.152733</td>\n",
       "      <td>0.252684</td>\n",
       "    </tr>\n",
       "    <tr>\n",
       "      <th>4</th>\n",
       "      <td>-1.818465</td>\n",
       "      <td>-1.047346</td>\n",
       "      <td>-0.904040</td>\n",
       "      <td>-0.510575</td>\n",
       "      <td>0.903018</td>\n",
       "      <td>-0.661137</td>\n",
       "      <td>0.747340</td>\n",
       "      <td>1.946046</td>\n",
       "      <td>-0.546158</td>\n",
       "      <td>-1.219128</td>\n",
       "      <td>-0.984384</td>\n",
       "      <td>0.252684</td>\n",
       "    </tr>\n",
       "  </tbody>\n",
       "</table>\n",
       "</div>"
      ],
      "text/plain": [
       "   danceability    energy       key  loudness      mode  speechiness  \\\n",
       "0     -1.100925 -1.050292  0.511531 -0.834979  0.903018    -0.373430   \n",
       "1     -1.368146 -1.141622 -1.470268 -1.661467  0.903018    -0.563558   \n",
       "2     -1.031645 -1.422685  1.077759 -2.325506 -1.106597    -0.564564   \n",
       "3     -2.089151 -1.306607 -0.904040 -1.889913  0.903018    -0.570600   \n",
       "4     -1.818465 -1.047346 -0.904040 -0.510575  0.903018    -0.661137   \n",
       "\n",
       "   acousticness  instrumentalness  liveness   valence     tempo  \\\n",
       "0      1.090495          1.715003  0.113724 -0.370043 -1.362347   \n",
       "1      1.329736          1.869971 -0.530812 -0.735956  0.579970   \n",
       "2      1.324903          1.909417 -0.530812 -1.143451  0.321814   \n",
       "3      1.158159          2.010851 -0.193198 -1.374226 -1.152733   \n",
       "4      0.747340          1.946046 -0.546158 -1.219128 -0.984384   \n",
       "\n",
       "   time_signature  \n",
       "0        0.252684  \n",
       "1        0.252684  \n",
       "2       -1.850984  \n",
       "3        0.252684  \n",
       "4        0.252684  "
      ]
     },
     "execution_count": 5,
     "metadata": {},
     "output_type": "execute_result"
    }
   ],
   "source": [
    "X = df.drop([\"label\"], axis=1)\n",
    "\n",
    "def standardise(X):\n",
    "    # mean and standard deviation of all the features irrespective of class differences\n",
    "    mean_all   = X.mean()  \n",
    "    std_all    = X.std() \n",
    "\n",
    "    # standardised values\n",
    "    X_standardised = (X-mean_all)/std_all\n",
    "    return X_standardised\n",
    "\n",
    "X_standardised = standardise(X)\n",
    "\n",
    "X_standardised.head()\n"
   ]
  },
  {
   "cell_type": "markdown",
   "metadata": {},
   "source": [
    "### <a id=\"naive\"></a> Naive Bayes Classifier. \n",
    "Let's first get to know the calculations before the actual implementations."
   ]
  },
  {
   "cell_type": "markdown",
   "metadata": {},
   "source": [
    "Naive Bayes is a simple technique for constructing classifiers: models that assign class labels to problem instances, represented as vectors of feature values, where the class labels are drawn from some finite set. There is not a single algorithm for training such classifiers, but a family of algorithms based on a common principle: all naive Bayes classifiers assume that the value of a particular feature is independent of the value of any other feature, given the class variable. For example, a fruit may be considered to be an apple if it is red, round, and about 10 cm in diameter. A naive Bayes classifier considers each of these features to contribute independently to the probability that this fruit is an apple, regardless of any possible correlations between the color, roundness, and diameter features."
   ]
  },
  {
   "cell_type": "markdown",
   "metadata": {},
   "source": [
    "Abstractly, naive Bayes is a conditional probability model: given a problem instance to be classified, represented by a vector $ {\\displaystyle \\mathbf {x} =(x_{1},\\ldots ,x_{n})}$ representing some n features (independent variables), it assigns to this instance probabilities\n",
    "$$ {\\LARGE{ \\displaystyle p(C_{k}\\mid x_{1},\\ldots ,x_{n})\\,}}$$\n",
    "for each of K possible outcomes or classes ${\\displaystyle C_{k}}.$"
   ]
  },
  {
   "cell_type": "markdown",
   "metadata": {},
   "source": [
    "\n",
    "Using Bayes' theorem, the conditional probability can be decomposed as\n",
    "$$ {\\displaystyle p(C_{k}\\mid \\mathbf {x} )={\\frac {p(C_{k})\\ p(\\mathbf {x} \\mid C_{k})}{p(\\mathbf {x} )}}\\,} $$\n",
    "In plain English, using Bayesian probability terminology, the above equation can be written as\n",
    "$$ {\\displaystyle {\\text{posterior}}={\\frac {{\\text{prior}}\\times {\\text{likelihood}}}{\\text{evidence}}}\\,} $$"
   ]
  },
  {
   "cell_type": "markdown",
   "metadata": {},
   "source": [
    "In practice, there is interest only in the numerator of that fraction, because the denominator does not depend on ${\\displaystyle C}$ and the values of the features $\\mathbf{x_{i}}$ are given, so that the denominator is effectively constant. So the evidence,\n",
    "$ {\\displaystyle \\sum _{k}p(C_{k})\\ p(\\mathbf {x} \\mid C_{k})}$\n",
    "is a scaling factor dependent only on ${\\displaystyle x_{1},\\ldots ,x_{n}}$, that is, a constant if the values of the feature variables are known. So we shall drop it since it does not influence the classification.\n",
    "\n",
    "Again, in our case, since we have four classes each of which occuring with equal probability of $\\frac{1}{4}$, we can see that the **prior**, $\\mathbb{P}(\\mathbf{C}_k)$, is effectively constant just like the evidence above. So, we shall drop it as well.\n",
    "\n",
    "\n",
    "Now we have only the **likelihood**, $p(\\mathbf {x} \\mid C_{k})$ , to work with. The likelihood can be rewritten as follows, using the chain rule for repeated applications of the definition of conditional probability:\n",
    "\n",
    "$$\\displaystyle{p(x_1, x_2, \\ldots, x_n \\mid C_k) = p(x_{1}\\mid x_{2},\\ldots ,x_{n},C_{k})\\ p(x_{2}\\mid x_{3},\\ldots ,x_{n},C_{k})\\cdots p(x_{n-1}\\mid x_{n},C_{k})\\ p(x_{n}\\mid C_{k})}$$"
   ]
  },
  {
   "cell_type": "markdown",
   "metadata": {},
   "source": [
    "Now the **naive** conditional independence assumptions come into play: assume that all features in $\\mathbf{x}$ are mutually independent, conditional on the category $\\mathbf{C_{k}}$. Under this assumption,\n",
    "\n",
    "$$\\displaystyle {p(x_{i}\\mid x_{i+1},\\ldots ,x_{n},C_{k})=p(x_{i}\\mid C_{k})\\,}.$$\n",
    "\n",
    "Thus, the joint model, after dropping the prior and the evidence, can be expressed as **proportional** to $\\prod _{i=1}^{n}p(x_{i}\\mid C_{k})$\n"
   ]
  },
  {
   "cell_type": "markdown",
   "metadata": {},
   "source": [
    "Which Distribution should we use for the joint model **proportional** to $\\prod _{i=1}^{n}p(x_{i}\\mid C_{k})$? Even though there are many distributions to use here, we opt for Gaussian Naive Bayes."
   ]
  },
  {
   "cell_type": "markdown",
   "metadata": {},
   "source": [
    "### <a id=\"gaus\"></a> Gaussian Naive Bayes."
   ]
  },
  {
   "cell_type": "markdown",
   "metadata": {},
   "source": [
    "When dealing with continuous data, a typical assumption is that the continuous values associated with each class are distributed according to a normal (or Gaussian) distribution. For example, suppose the training data contains a continuous attribute, $\\mathbf{x}$. The data is first **segmented** by the class, and then the **mean** and **variance** of $\\mathbf{x}$ is computed in each class. Let $\\mathbf{\\mu _{k}}$ be the mean of the values in $\\mathbf{x}$ associated with class $\\mathbf{C}_k $, and let $\\mathbf{\\sigma}_{k}^{2}$ be the unbiased sample variance of the values in $\\mathbf{x}$ associated with class $\\mathbf{C}_k $ (that is, the degree of freedom is 1 => n-1). Suppose one has collected some observation value v. Then, the probability density of v given a class $\\mathbf{C}_k $, $\\displaystyle{p(x=v\\mid C_{k})}$, can be computed by plugging v into the equation for a normal distribution parameterized by $\\displaystyle{\\mu _{k}}$ and $\\displaystyle{\\sigma _{k}^{2}}$ as thus:"
   ]
  },
  {
   "cell_type": "markdown",
   "metadata": {},
   "source": [
    "\n",
    "$$\n",
    "\\LARGE{ \\mathbb{P}(\\mathbf{X} = x | \\mathbb{C_k}) = \\frac{1}{\\sqrt{2\\pi\\sigma_{k}^{2}}} \\LARGE{e^{- \\frac{(x-\\mu_k)^2}{2\\sigma_{k}^{2}}}} }\n",
    "\n",
    "$$"
   ]
  },
  {
   "cell_type": "markdown",
   "metadata": {},
   "source": [
    "In order to classify samples, one has to determine which posterior is greater: classic, jazz, metal or rap."
   ]
  },
  {
   "cell_type": "markdown",
   "metadata": {},
   "source": [
    "For example, for the classification as rap the posterior is given by\n",
    "\n",
    "$$ \\text{posterior(rap)} = \\frac{\\mathbb{P}(\\text{rap})\\mathbb{P}(\\text{danceability|rap})...\\mathbb{P}(\\text{tempo|rap})\\mathbb{P}(\\text{timeSignature|rap})}{\\text{evidence}} $$\n",
    "where the\n",
    "\n",
    "$$ \\begin{align}\n",
    "evidence &= \\mathbb{P}(\\text{classic})\\mathbb{P}(\\text{danceability|classic})...\\mathbb{P}(\\text{timeSignature|classic}) \\\\\n",
    "        &+ \\mathbb{P}(\\text{jazz})\\mathbb{P}(\\text{danceability|jazz})...\\mathbb{P}(\\text{timeSignature|jazz})\\\\\n",
    "        &+ \\mathbb{P}(\\text{metal})\\mathbb{P}(\\text{danceability|metal})...\\mathbb{P}(\\text{timeSignature|metal}) \\\\\n",
    "        &+ \\mathbb{P}(\\text{rap})\\mathbb{P}(\\text{danceability|rap})...\\mathbb{P}(\\text{timeSignature|rap}) \n",
    "\\end{align}$$\n",
    "and prior = $\\frac{1}{4}$\n",
    "\n"
   ]
  },
  {
   "cell_type": "markdown",
   "metadata": {},
   "source": [
    "But since we know that the evidence and the prior are effectively constants, we can drop them as already explained above. Thus:\n",
    "\n",
    "- posterior(classic) = $\\mathbb{P}(\\text{danceability|classic}) \\dots \\mathbb{P}(\\text{tempo|classic})\\mathbb{P}(\\text{timeSignature|classic})$\n",
    "- posterior(jazz) = $\\mathbb{P}(\\text{danceability|jazz})\\dots \\mathbb{P}(\\text{timeSignature|jazz})$\n",
    "- posterior(metal) = $\\mathbb{P}(\\text{danceability|metal})\\dots \\mathbb{P}(\\text{timeSignature|metal})$ \n",
    "- posterior(rap) = $\\mathbb{P}(\\text{danceability|rap})\\dots \\mathbb{P}(\\text{tempo|rap})\\mathbb{P}(\\text{timeSignature|rap})$"
   ]
  },
  {
   "cell_type": "markdown",
   "metadata": {},
   "source": [
    "We use the ```negative log-likelihood``` since the product of a large number of small probabilities can easily underflow the numerical precision of the computer. And this is resolved by computing instead the sum of the negative log probabilities as thus:\n",
    "\n",
    "$$\\begin{align}\n",
    "\\large{-log\\prod _{i=1}^{N}p(x_{i}\\mid C_{k}) }\n",
    "&=  \\large{ \\sum_{i=1}^N -log \\left( \\mathbb{P}(\\mathbf{X} = x_i | \\mathbb{C_k} \\right)} \\\\\n",
    "&=  \\large{ \\sum_{i=1}^N -log \\left(\\frac{1}{\\sqrt{2\\pi\\sigma_{j,k}^{2}}}e^{- \\large{ \\frac{(x_i -\\mu_{j,k})^2}{2\\sigma_{j,k}^{2}}}} \\right) }\\\\\n",
    "&= \\large{ \\sum_{i=1}^N \\frac{1}{2}log \\left(2\\pi\\sigma_{j,k}^2\\right) + \\frac{(x_i -\\mu_{j,k})^2}{2\\sigma_{j,k}^{2}} }\n",
    "\\end{align}$$\n",
    "\n",
    "Where k is the class label and j is the index of the feature at column j"
   ]
  },
  {
   "cell_type": "markdown",
   "metadata": {},
   "source": [
    "#### <a id=\"mle\"></a> Getiing the MLE for the Mean and the Variance"
   ]
  },
  {
   "cell_type": "markdown",
   "metadata": {},
   "source": [
    "```LOG-LIKELIHOOD```  =  $\\mathbf{\\ell}(\\mu_{(j,k)}, \\sigma_{(j,k)}^2) = -\\frac{1}{2}\\sum_{i=1}^N log(2\\pi) -\\sum_{i=1}^N log \\left(\\sigma_{j,k}\\right) -\\frac{1}{2} \\sum_{i=1}^N \\frac{(x_i -\\mu_{j,k})^2}{\\sigma_{j,k}^{2}}\n",
    "$"
   ]
  },
  {
   "cell_type": "markdown",
   "metadata": {},
   "source": [
    "\n",
    "```MEAN```:\n",
    "\n",
    "$$ \\begin{align}\n",
    "\\frac{\\partial \\ell}{\\partial \\mu_{j,k}} &= -\\frac{1}{2} \\sum_{i=1}^N \\frac{2}{\\sigma_{j,k}^2} (x_i -\\mu_{j,k})(-1) = 0 \\\\\n",
    "&\\implies \\sum_{i=1}^N \\frac{x_i - \\mu_{j,k}}{\\sigma_{j,k}^2} = 0 \\\\\n",
    "&\\implies \\frac{1}{\\sigma_{j,k}^2} \\sum_{i=1}^N x_i   -\\frac{1}{\\sigma_{j,k}^2} \\sum_{i=1}^N \\mu_{j,k} = 0 \\\\\n",
    "&\\implies \\sum_{i=1}^N \\mu_{j,k} = \\sum_{i=1}^N x_i \\\\\n",
    "&\\implies \\mu_{j,k} = \\frac{1}{N}\\sum_{i=1}^N x_i\n",
    "\n",
    "\\end{align}$$"
   ]
  },
  {
   "cell_type": "markdown",
   "metadata": {},
   "source": [
    "```VARIANCE```:\n",
    "\n",
    "$$\\begin{align}\n",
    "\\frac{\\partial \\ell}{\\partial \\sigma_{j,k}^2} &= -\\sum_{i=1}^N \\frac{1}{\\sigma_{j,k}} + \\sum_{i=1}^N \\frac{(x_i - \\mu_{j,k})^2}{\\sigma_{j,k}^3} = 0 \\\\\n",
    "& \\implies \\frac{-N}{\\sigma_{j,k}} + \\frac{1}{\\sigma_{j,k}^3} \\sum_{i=1}^N (x_i - \\mu_{j,k})^2 = 0 \\\\\n",
    "& \\implies \\frac{1}{\\sigma_{j,k}^3} \\sum_{i=1}^N (x_i - \\mu_{j,k})^2 = \\frac{N}{\\sigma_{j,k}} \\\\\n",
    "& \\implies \\sigma_{j,k}^2 = \\frac{1}{N} \\sum_{i=1}^N (x_i - \\mu_{j,k})^2\n",
    "\\end{align}$$\n"
   ]
  },
  {
   "cell_type": "markdown",
   "metadata": {},
   "source": [
    "Therefore, the best estimate for the mean and variance parameters of a Gaussian are simply the empirical estimates of the mean and variance respectively. These means and variances are for each feature w.r.t each class. For example, the feature danceability w.r.t rap has a mean and variance different than danceability w.r.t classic. So for each feature x, it has a mean and variance for each class c.Therefore, the means and variances must be calculated for each feature (in our case, a whopping 12 features for 4 classes). We did this in a simple one-pass by first filtering out the appropriate instances (w.r.t to the class in question) under each feature, then take the mean and variance as can be seen in the implementation below.\n"
   ]
  },
  {
   "cell_type": "markdown",
   "metadata": {},
   "source": [
    "### <a id=\"impnaive\"></a> Implementation of the fit and predict methods"
   ]
  },
  {
   "cell_type": "code",
   "execution_count": 4,
   "metadata": {},
   "outputs": [],
   "source": [
    "\n",
    "class GaussNaiveBayes(): \n",
    "    def __init__(self):\n",
    "        \n",
    "        #To check if the \"fit\" method is called to initialize all variables before calling the predict.\n",
    "        self.__run_fit_first = False\n",
    "        \n",
    "    ##############################################################################à\n",
    "    def fit(self, X, y):        \n",
    "        classes = {\"classic\": 0, \"jazz\": 1, \"metal\": 2, \"rap\": 3}\n",
    "        \n",
    "        # Notice that these are dictionaries, rather than lists. e.g. mean_classic[\"danceability\"]\n",
    "        self.mean_classic   = self.__values_of_each_label(X, y, classes[\"classic\"]).mean(numeric_only=True)  \n",
    "        self.mean_jazz      = self.__values_of_each_label(X, y, classes[\"jazz\"]).mean(numeric_only=True)\n",
    "        self.mean_metal     = self.__values_of_each_label(X, y, classes[\"metal\"]).mean(numeric_only=True)\n",
    "        self.mean_rap       = self.__values_of_each_label(X, y, classes[\"rap\"]).mean(numeric_only=True)\n",
    "        \n",
    "        #degree of freedom = 1 => (n-1)\n",
    "        self.variance_classic   = self.__values_of_each_label(X, y, classes[\"classic\"]).var(numeric_only=True, ddof=1)  \n",
    "        self.variance_jazz      = self.__values_of_each_label(X, y, classes[\"jazz\"]).var(numeric_only=True, ddof=1)\n",
    "        self.variance_metal     = self.__values_of_each_label(X, y, classes[\"metal\"]).var(numeric_only=True, ddof=1)\n",
    "        self.variance_rap       = self.__values_of_each_label(X, y, classes[\"rap\"]).var(numeric_only=True, ddof=1)\n",
    "        \n",
    "        #Set it to True since all the required variables have been initialized\n",
    "        self.__run_fit_first = True\n",
    "        \n",
    "    def __values_of_each_label(self, X, y, labl):\n",
    "        t = np.where(y == labl)  \n",
    "        vals = X.iloc[t]\n",
    "        return vals\n",
    "    \n",
    "    ######################################################################################à\n",
    "    def predict(self, X_test): \n",
    "        \n",
    "        #Raise an error message if the fit method has not been called first to initialize variables.\n",
    "        assert self.__run_fit_first == True, \"Please, run the 'fit' method first to train the model!.\"\n",
    "        \n",
    "        predictions = []\n",
    "        \n",
    "        if len(X_test) > 1:\n",
    "            for row in X_test.values:\n",
    "                pred = self.__prob_of_feature_given_label(row)\n",
    "                m = np.argmin([pred[\"classic\"], pred[\"jazz\"], pred[\"metal\"], pred[\"rap\"]])\n",
    "                predictions.append(m)\n",
    "                \n",
    "        #for testing single row\n",
    "        elif len(X_test) == 1:\n",
    "            pred = self.__prob_of_feature_given_label(X_test)\n",
    "            m = np.argmin([pred[\"classic\"], pred[\"jazz\"], pred[\"metal\"], pred[\"rap\"]])\n",
    "            predictions.append(m)\n",
    "        \n",
    "        return np.array(predictions)\n",
    "        \n",
    "    def __prob_of_feature_given_label(self, row):\n",
    "        probs = {\"classic\": 0, \"jazz\": 0, \"metal\": 0, \"rap\": 0}\n",
    "        \n",
    "        for i, val in enumerate(row):\n",
    "            probs[\"classic\"] += self.__gauss_func(val, self.mean_classic.iloc[i], self.variance_classic.iloc[i])\n",
    "            probs[\"jazz\"]   +=  self.__gauss_func(val, self.mean_jazz.iloc[i], self.variance_jazz.iloc[i]) \n",
    "            probs[\"metal\"]  +=  self.__gauss_func(val, self.mean_metal.iloc[i], self.variance_metal.iloc[i]) \n",
    "            probs[\"rap\"]    +=  self.__gauss_func(val, self.mean_rap.iloc[i], self.variance_rap.iloc[i])\n",
    "            #print(probs)\n",
    "            \n",
    "        return probs\n",
    "        \n",
    "    # After taking log of the Gaussian distribution\n",
    "    def __gauss_func(self, val, mu, sigma): \n",
    "        v = (val-mu)**2\n",
    "        s =  2*sigma**2\n",
    "        power = v/s                                # (x-mean)^2 / 2sigma^2 after taking the log\n",
    "        \n",
    "        scale = 0.5*np.log(2*np.pi*sigma**2)       # 0.5*ln(2pi*sigma^2) after taking the log\n",
    "        \n",
    "        return scale+power\n",
    "        "
   ]
  },
  {
   "cell_type": "markdown",
   "metadata": {},
   "source": [
    "### Split the dataset for training and testing"
   ]
  },
  {
   "cell_type": "code",
   "execution_count": 108,
   "metadata": {},
   "outputs": [],
   "source": [
    "X_train, X_test, y_train, y_test = train_test_split(X_standardised, y, stratify=y, shuffle=True, random_state=2)\n"
   ]
  },
  {
   "cell_type": "markdown",
   "metadata": {},
   "source": [
    "### <a id=\"conf\"></a> Plot the Confusion Matrix and print the Classification Report and Accuracy Score"
   ]
  },
  {
   "cell_type": "code",
   "execution_count": 144,
   "metadata": {},
   "outputs": [],
   "source": [
    "\n",
    "labels = [\"Classic\", \"Jazz\", \"Metal\", \"Rap\"]\n",
    "\n",
    "def confusion_matrix_score(ytest, ypred, labels=labels):\n",
    "    \n",
    "    score = accuracy_score(ytest, ypred) * 100\n",
    "    print(f\"The accuracy score is {score:.2f}%.\", end=\"\\n\\n\")\n",
    "    \n",
    "    conf_matrix = confusion_matrix(ytest, ypred)\n",
    "\n",
    "    sns.heatmap(conf_matrix, square=True, annot=True, fmt='d', cbar=True, lw=0.6,\n",
    "                xticklabels=labels,\n",
    "                yticklabels=labels)\n",
    "\n",
    "    plt.title(\"Confusion Matrix\", color=\"blue\", fontsize=25)\n",
    "\n",
    "    plt.xlabel('True Label')\n",
    "    plt.ylabel('Predicted Label');\n",
    "\n",
    "    # classification_report\n",
    "    print(f\"classification_report: \\n{ classification_report(ytest, ypred, target_names=labels) }\", end=\"\\n\\n\")\n",
    "    "
   ]
  },
  {
   "cell_type": "markdown",
   "metadata": {},
   "source": [
    "### <a id=\"train\"></a> Train and Prediction"
   ]
  },
  {
   "cell_type": "code",
   "execution_count": 145,
   "metadata": {},
   "outputs": [
    {
     "name": "stdout",
     "output_type": "stream",
     "text": [
      "The accuracy score is 89.02%.\n",
      "\n",
      "classification_report: \n",
      "              precision    recall  f1-score   support\n",
      "\n",
      "     Classic       0.88      0.85      0.87        61\n",
      "        Jazz       0.88      0.89      0.88        96\n",
      "       Metal       0.94      0.89      0.91       102\n",
      "         Rap       0.86      0.92      0.89        87\n",
      "\n",
      "    accuracy                           0.89       346\n",
      "   macro avg       0.89      0.89      0.89       346\n",
      "weighted avg       0.89      0.89      0.89       346\n",
      "\n",
      "\n"
     ]
    },
    {
     "data": {
      "image/png": "[encoded data removed]",
      "text/plain": [
       "<Figure size 432x288 with 2 Axes>"
      ]
     },
     "metadata": {
      "needs_background": "light"
     },
     "output_type": "display_data"
    }
   ],
   "source": [
    "GNB = GaussNaiveBayes()\n",
    "\n",
    "GNB.fit(X_train, y_train)\n",
    "y_pred = GNB.predict(X_test)\n",
    "\n",
    "confusion_matrix_score(y_test, y_pred)\n",
    "\n",
    "# for i in list( zip(y_test, y_pred)):\n",
    "#     print(i, end=' ')"
   ]
  },
  {
   "cell_type": "markdown",
   "metadata": {},
   "source": [
    "### sk-learn library implementation"
   ]
  },
  {
   "cell_type": "code",
   "execution_count": 146,
   "metadata": {},
   "outputs": [
    {
     "name": "stdout",
     "output_type": "stream",
     "text": [
      "The accuracy score is 91.33%.\n",
      "\n",
      "classification_report: \n",
      "              precision    recall  f1-score   support\n",
      "\n",
      "     Classic       0.93      0.85      0.89        61\n",
      "        Jazz       0.88      0.86      0.87        96\n",
      "       Metal       0.94      0.96      0.95       102\n",
      "         Rap       0.90      0.95      0.93        87\n",
      "\n",
      "    accuracy                           0.91       346\n",
      "   macro avg       0.91      0.91      0.91       346\n",
      "weighted avg       0.91      0.91      0.91       346\n",
      "\n",
      "\n"
     ]
    },
    {
     "data": {
      "image/png": "[encoded data removed]",
      "text/plain": [
       "<Figure size 432x288 with 2 Axes>"
      ]
     },
     "metadata": {
      "needs_background": "light"
     },
     "output_type": "display_data"
    }
   ],
   "source": [
    "from sklearn.naive_bayes import GaussianNB\n",
    "clf = GaussianNB()\n",
    "\n",
    "clf.fit(X_train, y_train)\n",
    "y_pred_2 = clf.predict(X_test)\n",
    "\n",
    "confusion_matrix_score(y_test, y_pred_2)\n",
    "\n",
    "# for i in list( zip(y_pred_2, y_pred)):\n",
    "#     print(i, end=' ')"
   ]
  }
 ],
 "metadata": {
  "kernelspec": {
   "display_name": "Python 3.8.11 ('base')",
   "language": "python",
   "name": "python3"
  },
  "language_info": {
   "codemirror_mode": {
    "name": "ipython",
    "version": 3
   },
   "file_extension": ".py",
   "mimetype": "text/x-python",
   "name": "python",
   "nbconvert_exporter": "python",
   "pygments_lexer": "ipython3",
   "version": "3.8.11"
  },
  "orig_nbformat": 4,
  "vscode": {
   "interpreter": {
    "hash": "8b1c34a4705f1ad3e989dda6439809041f8cc2de32377149232f1be5f4f19a59"
   }
  }
 },
 "nbformat": 4,
 "nbformat_minor": 2
}
