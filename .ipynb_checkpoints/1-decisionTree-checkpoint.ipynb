{
 "cells": [
  {
   "cell_type": "markdown",
   "metadata": {},
   "source": [
    "# Classification with trees and forests"
   ]
  },
  {
   "cell_type": "markdown",
   "metadata": {},
   "source": [
    "## Decision Trees\n"
   ]
  },
  {
   "cell_type": "markdown",
   "metadata": {},
   "source": [
    "### Overview"
   ]
  },
  {
   "cell_type": "markdown",
   "metadata": {},
   "source": [
    "Decision tree (DT) is a *non-parametric* supervised method used for both regression and classification. As the name suggests, DTs uses a tree-like model where each internal node rappresent a test on one (or more) attributes of our dataset, and each leaf node rappresent a class label; It follows that the branches rappresent the outcome of our test. The path from root to leaf are the classifications rules.\n",
    "\n",
    "![A simple rappresentation of a decision tree](imgs/simpleDT.jpg#center)\n",
    "\n",
    "\\\n",
    "Decision Trees have many advantages such as : \n",
    "* Simple to understand and even visualize\n",
    "* It is a *white box* model; Non parametric approach that is no assumption on the shape/distribution of the data\n",
    "* Can work with both numerical and categorical values\n",
    "* Easy train and fast performances\n",
    "\n",
    "\n",
    "\n",
    "On the other hand decision trees can be very sensitive to small change in the data that can result in major change in the structure of the tree; Another problem with this approach is the danger of overfitting if not taken enough precautions. \n",
    "\n",
    "\n",
    "\n",
    "**So the question is how can we can construct a decision tree?**"
   ]
  },
  {
   "cell_type": "markdown",
   "metadata": {},
   "source": [
    "### The building process: Reducing impurity"
   ]
  },
  {
   "cell_type": "markdown",
   "metadata": {},
   "source": [
    "The algorithm to build a decision is a 'greedy' algorithm that at each node try to find the variable that **best split** the set of items in each step. So the question becomes what is considered the best split ? \n",
    "\n",
    "Two main metrics are used nowdays : \n",
    "* Gini impurity \n",
    "* Information Gain / Entropy impurity\n",
    "\n",
    "In this brief project we decided to use the latter.\n",
    "\n",
    "In general we define the information gain as:   \n",
    "$$IG(T, \\alpha ) = H(T) - H(T| \\alpha )$$\n",
    "where $$H(X) = - \\sum^n_{i=1} P(x_i)logP(x_i)$$\n",
    "is the entropy. \n",
    "\n",
    "So when building the decision tree we are trying to reduce the conditional entropy that is equivalent to maximise the information gain on each split. In simple terms we are trying to learn $\\alpha$ such that our uncertainty about our observations is minimized. \n",
    "\n",
    "So the recursive process will be to begin with the whole dataset in the root node. We then calculate which is the best split among all features and all possible values for that feature; This will leave us with a threshold and feature on where to split. We assign to the left child of the root all observations where it's value is less or equal than the threshold and the rest to the right child. The process in then recursively repeated untill we either have all obs belonging to one class or where there are not enough observations to further split. In both cases those nodes will be the leaf nodes.\n",
    "\n",
    "\n",
    "For a more Detailed implentation refer to the **DecisionTree\\tree.py** python class."
   ]
  },
  {
   "cell_type": "markdown",
   "metadata": {},
   "source": [
    "## A little showcase"
   ]
  },
  {
   "cell_type": "code",
   "execution_count": 1,
   "metadata": {},
   "outputs": [],
   "source": [
    "import numpy as np \n",
    "import pandas as pd\n",
    "import seaborn as sns\n",
    "import matplotlib.pyplot as plt\n",
    "from sklearn.model_selection import train_test_split"
   ]
  },
  {
   "cell_type": "code",
   "execution_count": 2,
   "metadata": {},
   "outputs": [
    {
     "data": {
      "text/html": [
       "<div>\n",
       "<style scoped>\n",
       "    .dataframe tbody tr th:only-of-type {\n",
       "        vertical-align: middle;\n",
       "    }\n",
       "\n",
       "    .dataframe tbody tr th {\n",
       "        vertical-align: top;\n",
       "    }\n",
       "\n",
       "    .dataframe thead th {\n",
       "        text-align: right;\n",
       "    }\n",
       "</style>\n",
       "<table border=\"1\" class=\"dataframe\">\n",
       "  <thead>\n",
       "    <tr style=\"text-align: right;\">\n",
       "      <th></th>\n",
       "      <th>danceability</th>\n",
       "      <th>energy</th>\n",
       "      <th>key</th>\n",
       "      <th>loudness</th>\n",
       "      <th>mode</th>\n",
       "      <th>speechiness</th>\n",
       "      <th>acousticness</th>\n",
       "      <th>instrumentalness</th>\n",
       "      <th>liveness</th>\n",
       "      <th>valence</th>\n",
       "      <th>tempo</th>\n",
       "      <th>duration_ms</th>\n",
       "      <th>time_signature</th>\n",
       "      <th>Y</th>\n",
       "    </tr>\n",
       "  </thead>\n",
       "  <tbody>\n",
       "    <tr>\n",
       "      <th>0</th>\n",
       "      <td>0.414</td>\n",
       "      <td>0.9780</td>\n",
       "      <td>8</td>\n",
       "      <td>-3.144</td>\n",
       "      <td>0</td>\n",
       "      <td>0.0913</td>\n",
       "      <td>0.000268</td>\n",
       "      <td>0.364000</td>\n",
       "      <td>0.0998</td>\n",
       "      <td>0.253</td>\n",
       "      <td>174.045</td>\n",
       "      <td>229901</td>\n",
       "      <td>4</td>\n",
       "      <td>2</td>\n",
       "    </tr>\n",
       "    <tr>\n",
       "      <th>1</th>\n",
       "      <td>0.387</td>\n",
       "      <td>0.0546</td>\n",
       "      <td>0</td>\n",
       "      <td>-17.244</td>\n",
       "      <td>0</td>\n",
       "      <td>0.0327</td>\n",
       "      <td>0.945000</td>\n",
       "      <td>0.000083</td>\n",
       "      <td>0.1000</td>\n",
       "      <td>0.181</td>\n",
       "      <td>105.439</td>\n",
       "      <td>229227</td>\n",
       "      <td>4</td>\n",
       "      <td>1</td>\n",
       "    </tr>\n",
       "    <tr>\n",
       "      <th>2</th>\n",
       "      <td>0.515</td>\n",
       "      <td>0.5830</td>\n",
       "      <td>0</td>\n",
       "      <td>-8.182</td>\n",
       "      <td>0</td>\n",
       "      <td>0.0284</td>\n",
       "      <td>0.749000</td>\n",
       "      <td>0.000294</td>\n",
       "      <td>0.1230</td>\n",
       "      <td>0.414</td>\n",
       "      <td>116.110</td>\n",
       "      <td>333947</td>\n",
       "      <td>4</td>\n",
       "      <td>1</td>\n",
       "    </tr>\n",
       "    <tr>\n",
       "      <th>3</th>\n",
       "      <td>0.689</td>\n",
       "      <td>0.4810</td>\n",
       "      <td>10</td>\n",
       "      <td>-7.503</td>\n",
       "      <td>1</td>\n",
       "      <td>0.0815</td>\n",
       "      <td>0.369000</td>\n",
       "      <td>0.000001</td>\n",
       "      <td>0.0649</td>\n",
       "      <td>0.283</td>\n",
       "      <td>80.025</td>\n",
       "      <td>229526</td>\n",
       "      <td>4</td>\n",
       "      <td>3</td>\n",
       "    </tr>\n",
       "    <tr>\n",
       "      <th>4</th>\n",
       "      <td>0.420</td>\n",
       "      <td>0.9300</td>\n",
       "      <td>2</td>\n",
       "      <td>-5.583</td>\n",
       "      <td>0</td>\n",
       "      <td>0.0638</td>\n",
       "      <td>0.018900</td>\n",
       "      <td>0.006750</td>\n",
       "      <td>0.2640</td>\n",
       "      <td>0.344</td>\n",
       "      <td>99.641</td>\n",
       "      <td>291373</td>\n",
       "      <td>4</td>\n",
       "      <td>2</td>\n",
       "    </tr>\n",
       "  </tbody>\n",
       "</table>\n",
       "</div>"
      ],
      "text/plain": [
       "   danceability  energy  key  loudness  mode  speechiness  acousticness  \\\n",
       "0         0.414  0.9780    8    -3.144     0       0.0913      0.000268   \n",
       "1         0.387  0.0546    0   -17.244     0       0.0327      0.945000   \n",
       "2         0.515  0.5830    0    -8.182     0       0.0284      0.749000   \n",
       "3         0.689  0.4810   10    -7.503     1       0.0815      0.369000   \n",
       "4         0.420  0.9300    2    -5.583     0       0.0638      0.018900   \n",
       "\n",
       "   instrumentalness  liveness  valence    tempo  duration_ms  time_signature  \\\n",
       "0          0.364000    0.0998    0.253  174.045       229901               4   \n",
       "1          0.000083    0.1000    0.181  105.439       229227               4   \n",
       "2          0.000294    0.1230    0.414  116.110       333947               4   \n",
       "3          0.000001    0.0649    0.283   80.025       229526               4   \n",
       "4          0.006750    0.2640    0.344   99.641       291373               4   \n",
       "\n",
       "   Y  \n",
       "0  2  \n",
       "1  1  \n",
       "2  1  \n",
       "3  3  \n",
       "4  2  "
      ]
     },
     "execution_count": 2,
     "metadata": {},
     "output_type": "execute_result"
    }
   ],
   "source": [
    "dF = pd.read_csv('data//csvs//dataframeV1.csv', index_col=0)\n",
    "\n",
    "# Drop not usefull cols\n",
    "dF = dF.drop(['id', 'uri'], axis = 1)\n",
    "\n",
    "# Turn genres names into cat \n",
    "dF.label = pd.Categorical(dF.label)\n",
    "dF['Y'] = dF.label.cat.codes\n",
    "dF = dF.drop(['label'], axis = 1)\n",
    "\n",
    "# Shuffling the dataset\n",
    "dF = dF.sample(frac=1).reset_index(drop=True)\n",
    "\n",
    "dF.head()"
   ]
  },
  {
   "cell_type": "code",
   "execution_count": 3,
   "metadata": {},
   "outputs": [],
   "source": [
    "from DecisionTree.tree import Tree\n",
    "\n",
    "# Creating the decision Tree\n",
    "dT = Tree()"
   ]
  },
  {
   "cell_type": "code",
   "execution_count": 20,
   "metadata": {},
   "outputs": [],
   "source": [
    "# Prepare the dataset for the decision tree\n",
    "\n",
    "y = dF.Y \n",
    "X = dF.drop([\"Y\"], axis=1)\n",
    "\n",
    "# Split in train and validation\n",
    "x_train, x_test, y_train, y_test = train_test_split(X, y, train_size=.75)"
   ]
  },
  {
   "cell_type": "code",
   "execution_count": 21,
   "metadata": {},
   "outputs": [],
   "source": [
    "# Fit the tree on the train set \n",
    "dT.fit(x_train.to_numpy(), y_train.to_numpy())"
   ]
  },
  {
   "cell_type": "code",
   "execution_count": 22,
   "metadata": {},
   "outputs": [],
   "source": [
    "# Build the prediction over the validation set\n",
    "preds = dT.predict(x_test.to_numpy())"
   ]
  },
  {
   "cell_type": "code",
   "execution_count": 23,
   "metadata": {},
   "outputs": [
    {
     "data": {
      "text/plain": [
       "0.8670520231213873"
      ]
     },
     "execution_count": 23,
     "metadata": {},
     "output_type": "execute_result"
    }
   ],
   "source": [
    "# Calculate the overall accuracy.\n",
    "sum(preds == y_test) / len(preds)"
   ]
  },
  {
   "cell_type": "markdown",
   "metadata": {},
   "source": [
    "# Random Forest\n"
   ]
  },
  {
   "cell_type": "markdown",
   "metadata": {},
   "source": [
    "We now try to address one of the main problems when using DTs, that is overfitting. In fact is common for such models to learn on the noise and small variations in the data, if hyper-paramethers are not carefully tuned. \n",
    "\n",
    "A solution to this is to use Random Forests (RF). RF is an **ensamble learning** method that operates by constructing multiple decision trees. Many decision trees are constructed applying the general technique of bootstrapping.\n",
    "\n",
    "More formally if we have a training set $X = x_1, ..., x_n$ and the labels associated $Y = y_1, ...,y_n$ we **Bag** (Sample with replacment) from $\\{X,Y\\}$ $ B $ times and train a decision tree on this sample. We then in case of classification take the majority of votes from all the $B$ predictions as the final output of the RF model.\n",
    "\n",
    "Bootstrapping so help us solve the issue of overfitting. A step further in this direction would be modify the DT algorithm slightly, by looking at each step to only a portion of the features to find the best possible split. This not only improve the overall model accuracy and speed but also provide a further guard against overfitting. "
   ]
  },
  {
   "cell_type": "code",
   "execution_count": 8,
   "metadata": {},
   "outputs": [],
   "source": [
    "from RandomForest.randomForest import Forest"
   ]
  },
  {
   "cell_type": "markdown",
   "metadata": {},
   "source": [
    "So the first question is how many trees should build ? As there is no universal answer the best way to find out this hyperparameter is to use some model selection techniques. "
   ]
  },
  {
   "cell_type": "code",
   "execution_count": 9,
   "metadata": {},
   "outputs": [],
   "source": [
    "from sklearn.model_selection import cross_validate"
   ]
  },
  {
   "cell_type": "code",
   "execution_count": 10,
   "metadata": {},
   "outputs": [],
   "source": [
    "parameters = {\n",
    "    'max_trees' : [x for x in range(24,27)],\n",
    "    'max_detph' : [4,5,6,7]\n",
    "}\n",
    "\n",
    "K = 10\n",
    "\n",
    "\n",
    "res_acc = {}\n",
    "res_time = {}\n",
    "\n",
    "# Set to true if need to rerun the cross validation (note: it takes some time)\n",
    "doCV = False\n",
    "\n",
    "if doCV : \n",
    "    for b in parameters['max_trees']: \n",
    "        res_acc['T' + str(b)] = list()\n",
    "        res_time['T' + str(b)] = list()\n",
    "        for d in parameters['max_detph']:\n",
    "            print(f\"Fitting Forest ID : T{b}D{d}\", end = '\\r')\n",
    "            score = cross_validate(Forest(max_trees=b, max_depth=6), X, y, scoring='accuracy', cv = K, n_jobs=-1 )\n",
    "            res_acc['T' + str(b)].append(sum(score['test_score']) / K)\n",
    "            res_time['T' + str(b)].append(sum(score['score_time']) / K)\n",
    "\n"
   ]
  },
  {
   "cell_type": "code",
   "execution_count": 11,
   "metadata": {},
   "outputs": [],
   "source": [
    "if doCV : \n",
    "    acc_df = pd.DataFrame.from_dict(res_acc, orient='columns')\n",
    "    acc_df = pd.concat([pd.Series(parameters['max_detph'], name = 'Depth'),acc_df], axis = 1)\n",
    "    acc_df = acc_df.set_index('Depth')\n",
    "\n",
    "    time_df = pd.DataFrame.from_dict(res_time, orient='columns')\n",
    "    time_df = pd.concat([pd.Series(parameters['max_detph'], name = 'Depth'),time_df], axis = 1)\n",
    "    time_df = time_df.set_index('Depth')\n",
    "else : \n",
    "    acc_df = pd.read_csv('data/csvs/cv_acc_res.csv')\n",
    "    acc_df = acc_df.set_index('Depth')\n",
    "    time_df = pd.read_csv('data/csvs/cv_time_res.csv')\n",
    "    time_df = time_df.set_index('Depth')"
   ]
  },
  {
   "cell_type": "code",
   "execution_count": 12,
   "metadata": {},
   "outputs": [
    {
     "data": {
      "text/html": [
       "<div>\n",
       "<style scoped>\n",
       "    .dataframe tbody tr th:only-of-type {\n",
       "        vertical-align: middle;\n",
       "    }\n",
       "\n",
       "    .dataframe tbody tr th {\n",
       "        vertical-align: top;\n",
       "    }\n",
       "\n",
       "    .dataframe thead th {\n",
       "        text-align: right;\n",
       "    }\n",
       "</style>\n",
       "<table border=\"1\" class=\"dataframe\">\n",
       "  <thead>\n",
       "    <tr style=\"text-align: right;\">\n",
       "      <th></th>\n",
       "      <th>T5</th>\n",
       "      <th>T6</th>\n",
       "      <th>T7</th>\n",
       "      <th>T8</th>\n",
       "      <th>T9</th>\n",
       "      <th>T10</th>\n",
       "      <th>T11</th>\n",
       "      <th>T12</th>\n",
       "      <th>T13</th>\n",
       "      <th>T14</th>\n",
       "    </tr>\n",
       "    <tr>\n",
       "      <th>Depth</th>\n",
       "      <th></th>\n",
       "      <th></th>\n",
       "      <th></th>\n",
       "      <th></th>\n",
       "      <th></th>\n",
       "      <th></th>\n",
       "      <th></th>\n",
       "      <th></th>\n",
       "      <th></th>\n",
       "      <th></th>\n",
       "    </tr>\n",
       "  </thead>\n",
       "  <tbody>\n",
       "    <tr>\n",
       "      <th>2</th>\n",
       "      <td>0.864899</td>\n",
       "      <td>0.864117</td>\n",
       "      <td>0.875722</td>\n",
       "      <td>0.866364</td>\n",
       "      <td>0.883698</td>\n",
       "      <td>0.891638</td>\n",
       "      <td>0.878761</td>\n",
       "      <td>0.896007</td>\n",
       "      <td>0.875070</td>\n",
       "      <td>0.895965</td>\n",
       "    </tr>\n",
       "    <tr>\n",
       "      <th>3</th>\n",
       "      <td>0.868507</td>\n",
       "      <td>0.867772</td>\n",
       "      <td>0.888062</td>\n",
       "      <td>0.864863</td>\n",
       "      <td>0.886612</td>\n",
       "      <td>0.874356</td>\n",
       "      <td>0.884444</td>\n",
       "      <td>0.890142</td>\n",
       "      <td>0.903258</td>\n",
       "      <td>0.885137</td>\n",
       "    </tr>\n",
       "    <tr>\n",
       "      <th>4</th>\n",
       "      <td>0.856981</td>\n",
       "      <td>0.851887</td>\n",
       "      <td>0.875013</td>\n",
       "      <td>0.867006</td>\n",
       "      <td>0.856360</td>\n",
       "      <td>0.878641</td>\n",
       "      <td>0.869294</td>\n",
       "      <td>0.876535</td>\n",
       "      <td>0.890976</td>\n",
       "      <td>0.890204</td>\n",
       "    </tr>\n",
       "    <tr>\n",
       "      <th>5</th>\n",
       "      <td>0.862772</td>\n",
       "      <td>0.874283</td>\n",
       "      <td>0.881603</td>\n",
       "      <td>0.877182</td>\n",
       "      <td>0.883745</td>\n",
       "      <td>0.888755</td>\n",
       "      <td>0.888792</td>\n",
       "      <td>0.890929</td>\n",
       "      <td>NaN</td>\n",
       "      <td>0.900375</td>\n",
       "    </tr>\n",
       "  </tbody>\n",
       "</table>\n",
       "</div>"
      ],
      "text/plain": [
       "             T5        T6        T7        T8        T9       T10       T11  \\\n",
       "Depth                                                                         \n",
       "2      0.864899  0.864117  0.875722  0.866364  0.883698  0.891638  0.878761   \n",
       "3      0.868507  0.867772  0.888062  0.864863  0.886612  0.874356  0.884444   \n",
       "4      0.856981  0.851887  0.875013  0.867006  0.856360  0.878641  0.869294   \n",
       "5      0.862772  0.874283  0.881603  0.877182  0.883745  0.888755  0.888792   \n",
       "\n",
       "            T12       T13       T14  \n",
       "Depth                                \n",
       "2      0.896007  0.875070  0.895965  \n",
       "3      0.890142  0.903258  0.885137  \n",
       "4      0.876535  0.890976  0.890204  \n",
       "5      0.890929       NaN  0.900375  "
      ]
     },
     "execution_count": 12,
     "metadata": {},
     "output_type": "execute_result"
    }
   ],
   "source": [
    "acc_df"
   ]
  },
  {
   "cell_type": "code",
   "execution_count": 13,
   "metadata": {},
   "outputs": [
    {
     "data": {
      "text/html": [
       "<div>\n",
       "<style scoped>\n",
       "    .dataframe tbody tr th:only-of-type {\n",
       "        vertical-align: middle;\n",
       "    }\n",
       "\n",
       "    .dataframe tbody tr th {\n",
       "        vertical-align: top;\n",
       "    }\n",
       "\n",
       "    .dataframe thead th {\n",
       "        text-align: right;\n",
       "    }\n",
       "</style>\n",
       "<table border=\"1\" class=\"dataframe\">\n",
       "  <thead>\n",
       "    <tr style=\"text-align: right;\">\n",
       "      <th></th>\n",
       "      <th>T5</th>\n",
       "      <th>T6</th>\n",
       "      <th>T7</th>\n",
       "      <th>T8</th>\n",
       "      <th>T9</th>\n",
       "      <th>T10</th>\n",
       "      <th>T11</th>\n",
       "      <th>T12</th>\n",
       "      <th>T13</th>\n",
       "      <th>T14</th>\n",
       "    </tr>\n",
       "    <tr>\n",
       "      <th>Depth</th>\n",
       "      <th></th>\n",
       "      <th></th>\n",
       "      <th></th>\n",
       "      <th></th>\n",
       "      <th></th>\n",
       "      <th></th>\n",
       "      <th></th>\n",
       "      <th></th>\n",
       "      <th></th>\n",
       "      <th></th>\n",
       "    </tr>\n",
       "  </thead>\n",
       "  <tbody>\n",
       "    <tr>\n",
       "      <th>2</th>\n",
       "      <td>0.003406</td>\n",
       "      <td>0.003398</td>\n",
       "      <td>0.003396</td>\n",
       "      <td>0.004604</td>\n",
       "      <td>0.004599</td>\n",
       "      <td>0.005497</td>\n",
       "      <td>0.005901</td>\n",
       "      <td>0.006000</td>\n",
       "      <td>0.006400</td>\n",
       "      <td>0.008150</td>\n",
       "    </tr>\n",
       "    <tr>\n",
       "      <th>3</th>\n",
       "      <td>0.003199</td>\n",
       "      <td>0.003298</td>\n",
       "      <td>0.004004</td>\n",
       "      <td>0.004505</td>\n",
       "      <td>0.004999</td>\n",
       "      <td>0.005099</td>\n",
       "      <td>0.005300</td>\n",
       "      <td>0.006697</td>\n",
       "      <td>0.008098</td>\n",
       "      <td>0.008601</td>\n",
       "    </tr>\n",
       "    <tr>\n",
       "      <th>4</th>\n",
       "      <td>0.002901</td>\n",
       "      <td>0.003601</td>\n",
       "      <td>0.003500</td>\n",
       "      <td>0.005006</td>\n",
       "      <td>0.004996</td>\n",
       "      <td>0.005600</td>\n",
       "      <td>0.005403</td>\n",
       "      <td>0.006400</td>\n",
       "      <td>0.007600</td>\n",
       "      <td>0.008805</td>\n",
       "    </tr>\n",
       "    <tr>\n",
       "      <th>5</th>\n",
       "      <td>0.002952</td>\n",
       "      <td>0.003206</td>\n",
       "      <td>0.003302</td>\n",
       "      <td>0.003960</td>\n",
       "      <td>0.004996</td>\n",
       "      <td>0.005100</td>\n",
       "      <td>0.006603</td>\n",
       "      <td>0.006301</td>\n",
       "      <td>0.005504</td>\n",
       "      <td>0.007200</td>\n",
       "    </tr>\n",
       "  </tbody>\n",
       "</table>\n",
       "</div>"
      ],
      "text/plain": [
       "             T5        T6        T7        T8        T9       T10       T11  \\\n",
       "Depth                                                                         \n",
       "2      0.003406  0.003398  0.003396  0.004604  0.004599  0.005497  0.005901   \n",
       "3      0.003199  0.003298  0.004004  0.004505  0.004999  0.005099  0.005300   \n",
       "4      0.002901  0.003601  0.003500  0.005006  0.004996  0.005600  0.005403   \n",
       "5      0.002952  0.003206  0.003302  0.003960  0.004996  0.005100  0.006603   \n",
       "\n",
       "            T12       T13       T14  \n",
       "Depth                                \n",
       "2      0.006000  0.006400  0.008150  \n",
       "3      0.006697  0.008098  0.008601  \n",
       "4      0.006400  0.007600  0.008805  \n",
       "5      0.006301  0.005504  0.007200  "
      ]
     },
     "execution_count": 13,
     "metadata": {},
     "output_type": "execute_result"
    }
   ],
   "source": [
    "time_df"
   ]
  },
  {
   "cell_type": "code",
   "execution_count": 14,
   "metadata": {},
   "outputs": [],
   "source": [
    "import json\n",
    "\n",
    "save = False\n",
    "\n",
    "\n",
    "if save:\n",
    "    with open('cv_acc.csv', 'w') as f: \n",
    "        acc_df.to_csv(f)\n",
    "        f.close()\n",
    "    with open('cv_time.csv', 'w') as f: \n",
    "        time_df.to_csv(f)\n",
    "        f.close()\n",
    "\n"
   ]
  },
  {
   "cell_type": "code",
   "execution_count": 15,
   "metadata": {},
   "outputs": [
    {
     "data": {
      "image/png": "[encoded data removed]",
      "text/plain": [
       "<Figure size 432x288 with 1 Axes>"
      ]
     },
     "metadata": {
      "needs_background": "light"
     },
     "output_type": "display_data"
    }
   ],
   "source": [
    "f = plt.figure()\n",
    "\n",
    "acc_df.plot(ax = f.gca(), use_index = True)\n",
    "plt.legend(loc='center left', bbox_to_anchor=(1.0, 0.5))\n",
    "plt.title(\"Accuracy of CV models\")\n",
    "plt.xlabel(\"Depth\")\n",
    "plt.ylabel(\"Accuracy\")\n",
    "plt.show()"
   ]
  },
  {
   "cell_type": "code",
   "execution_count": 16,
   "metadata": {},
   "outputs": [
    {
     "data": {
      "image/png": "[encoded data removed]",
      "text/plain": [
       "<Figure size 432x288 with 1 Axes>"
      ]
     },
     "metadata": {
      "needs_background": "light"
     },
     "output_type": "display_data"
    }
   ],
   "source": [
    "f = plt.figure()\n",
    "\n",
    "time_df.plot(ax = f.gca(), use_index = True)\n",
    "plt.legend(loc='center left', bbox_to_anchor=(1.0, 0.5))\n",
    "plt.title(\"Time to fit\")\n",
    "plt.xlabel(\"Depth\")\n",
    "plt.ylabel(\"Time(s)\") \n",
    "plt.show()\n",
    "plt.show()"
   ]
  },
  {
   "cell_type": "code",
   "execution_count": null,
   "metadata": {},
   "outputs": [],
   "source": []
  }
 ],
 "metadata": {
  "kernelspec": {
   "display_name": "Python 3.9.7 ('base')",
   "language": "python",
   "name": "python3"
  },
  "language_info": {
   "codemirror_mode": {
    "name": "ipython",
    "version": 3
   },
   "file_extension": ".py",
   "mimetype": "text/x-python",
   "name": "python",
   "nbconvert_exporter": "python",
   "pygments_lexer": "ipython3",
   "version": "3.9.7"
  },
  "orig_nbformat": 4,
  "vscode": {
   "interpreter": {
    "hash": "379ef13cdaaa3488d0d0ee4a3d00b9f61dd7f8c251b8a40c38fb20881b24658a"
   }
  }
 },
 "nbformat": 4,
 "nbformat_minor": 2
}
