{
 "cells": [
  {
   "cell_type": "markdown",
   "metadata": {},
   "source": [
    "# Classification with trees and forests"
   ]
  },
  {
   "cell_type": "markdown",
   "metadata": {},
   "source": [
    "## Decision Trees\n"
   ]
  },
  {
   "cell_type": "markdown",
   "metadata": {},
   "source": [
    "### Overview"
   ]
  },
  {
   "cell_type": "markdown",
   "metadata": {},
   "source": [
    "Decision tree (DT) is a *non-parametric* supervised method used for both regression and classification. As the name suggests, DTs uses a tree-like model where each internal node rappresent a test on one (or more) attributes of our dataset, and each leaf node rappresent a class label; It follows that the branches rappresent the outcome of our test. The path from root to leaf are the classifications rules.\n",
    "\n",
    "![A simple rappresentation of a decision tree](imgs/simpleDT.jpg#center)\n",
    "\n",
    "\\\n",
    "Decision Trees have many advantages such as : \n",
    "* Simple to understand and even visualize\n",
    "* It is a *white box* model; Non parametric approach that is no assumption on the shape/distribution of the data\n",
    "* Can work with both numerical and categorical values\n",
    "* Easy train and fast performances\n",
    "\n",
    "\n",
    "\n",
    "On the other hand decision trees can be very sensitive to small change in the data that can result in major change in the structure of the tree; Another problem with this approach is the danger of overfitting if not taken enough precautions. \n",
    "\n",
    "\n",
    "\n",
    "**So the question is how can we can construct a decision tree?**"
   ]
  },
  {
   "cell_type": "markdown",
   "metadata": {},
   "source": [
    "### The building process: Reducing impurity"
   ]
  },
  {
   "cell_type": "markdown",
   "metadata": {},
   "source": [
    "The algorithm to build a decision is a 'greedy' algorithm that at each node try to find the variable that **best split** the set of items in each step. So the question becomes what is considered the best split ? \n",
    "\n",
    "Two main metrics are used nowdays : \n",
    "* Gini impurity \n",
    "* Information Gain / Entropy impurity\n",
    "\n",
    "In this brief project we decided to use the latter.\n",
    "\n",
    "In general we define the information gain as:   \n",
    "$$IG(T, \\alpha ) = H(T) - H(T| \\alpha )$$\n",
    "where $$H(X) = - \\sum^n_{i=1} P(x_i)logP(x_i)$$\n",
    "is the entropy. \n",
    "\n",
    "So when building the decision tree we are trying to reduce the conditional entropy that is equivalent to maximise the information gain on each split. In simple terms we are trying to learn $\\alpha$ such that our uncertainty about our observations is minimized. \n",
    "\n",
    "So the recursive process will be to begin with the whole dataset in the root node. We then calculate which is the best split among all features and all possible values for that feature; This will leave us with a threshold and feature on where to split. We assign to the left child of the root all observations where it's value is less or equal than the threshold and the rest to the right child. The process in then recursively repeated untill we either have all obs belonging to one class or where there are not enough observations to further split. In both cases those nodes will be the leaf nodes.\n",
    "\n",
    "\n",
    "For a more Detailed implentation refer to the **DecisionTree\\tree.py** python class."
   ]
  },
  {
   "cell_type": "markdown",
   "metadata": {},
   "source": [
    "## A little showcase"
   ]
  },
  {
   "cell_type": "code",
   "execution_count": 5,
   "metadata": {},
   "outputs": [],
   "source": [
    "import numpy as np \n",
    "import pandas as pd\n",
    "import seaborn as sns\n",
    "import matplotlib.pyplot as plt\n",
    "from sklearn.model_selection import train_test_split"
   ]
  },
  {
   "cell_type": "code",
   "execution_count": 21,
   "metadata": {},
   "outputs": [
    {
     "data": {
      "text/html": [
       "<div>\n",
       "<style scoped>\n",
       "    .dataframe tbody tr th:only-of-type {\n",
       "        vertical-align: middle;\n",
       "    }\n",
       "\n",
       "    .dataframe tbody tr th {\n",
       "        vertical-align: top;\n",
       "    }\n",
       "\n",
       "    .dataframe thead th {\n",
       "        text-align: right;\n",
       "    }\n",
       "</style>\n",
       "<table border=\"1\" class=\"dataframe\">\n",
       "  <thead>\n",
       "    <tr style=\"text-align: right;\">\n",
       "      <th></th>\n",
       "      <th>danceability</th>\n",
       "      <th>energy</th>\n",
       "      <th>key</th>\n",
       "      <th>loudness</th>\n",
       "      <th>mode</th>\n",
       "      <th>speechiness</th>\n",
       "      <th>acousticness</th>\n",
       "      <th>instrumentalness</th>\n",
       "      <th>liveness</th>\n",
       "      <th>valence</th>\n",
       "      <th>tempo</th>\n",
       "      <th>duration_ms</th>\n",
       "      <th>time_signature</th>\n",
       "      <th>Y</th>\n",
       "    </tr>\n",
       "  </thead>\n",
       "  <tbody>\n",
       "    <tr>\n",
       "      <th>0</th>\n",
       "      <td>0.554</td>\n",
       "      <td>0.899</td>\n",
       "      <td>8</td>\n",
       "      <td>-4.573</td>\n",
       "      <td>1</td>\n",
       "      <td>0.4080</td>\n",
       "      <td>0.05210</td>\n",
       "      <td>0.000000</td>\n",
       "      <td>0.0568</td>\n",
       "      <td>0.5520</td>\n",
       "      <td>171.966</td>\n",
       "      <td>227893</td>\n",
       "      <td>4</td>\n",
       "      <td>3</td>\n",
       "    </tr>\n",
       "    <tr>\n",
       "      <th>1</th>\n",
       "      <td>0.106</td>\n",
       "      <td>0.227</td>\n",
       "      <td>3</td>\n",
       "      <td>-15.286</td>\n",
       "      <td>1</td>\n",
       "      <td>0.0462</td>\n",
       "      <td>0.87700</td>\n",
       "      <td>0.738000</td>\n",
       "      <td>0.1120</td>\n",
       "      <td>0.0391</td>\n",
       "      <td>59.940</td>\n",
       "      <td>530280</td>\n",
       "      <td>4</td>\n",
       "      <td>0</td>\n",
       "    </tr>\n",
       "    <tr>\n",
       "      <th>2</th>\n",
       "      <td>0.530</td>\n",
       "      <td>0.143</td>\n",
       "      <td>8</td>\n",
       "      <td>-17.471</td>\n",
       "      <td>1</td>\n",
       "      <td>0.0423</td>\n",
       "      <td>0.95800</td>\n",
       "      <td>0.497000</td>\n",
       "      <td>0.2780</td>\n",
       "      <td>0.1190</td>\n",
       "      <td>125.464</td>\n",
       "      <td>442227</td>\n",
       "      <td>4</td>\n",
       "      <td>1</td>\n",
       "    </tr>\n",
       "    <tr>\n",
       "      <th>3</th>\n",
       "      <td>0.337</td>\n",
       "      <td>0.209</td>\n",
       "      <td>2</td>\n",
       "      <td>-16.656</td>\n",
       "      <td>0</td>\n",
       "      <td>0.0314</td>\n",
       "      <td>0.93500</td>\n",
       "      <td>0.865000</td>\n",
       "      <td>0.1110</td>\n",
       "      <td>0.1400</td>\n",
       "      <td>89.158</td>\n",
       "      <td>185685</td>\n",
       "      <td>4</td>\n",
       "      <td>0</td>\n",
       "    </tr>\n",
       "    <tr>\n",
       "      <th>4</th>\n",
       "      <td>0.402</td>\n",
       "      <td>0.873</td>\n",
       "      <td>4</td>\n",
       "      <td>-3.209</td>\n",
       "      <td>0</td>\n",
       "      <td>0.0586</td>\n",
       "      <td>0.00484</td>\n",
       "      <td>0.000073</td>\n",
       "      <td>0.1570</td>\n",
       "      <td>0.6840</td>\n",
       "      <td>125.443</td>\n",
       "      <td>253667</td>\n",
       "      <td>4</td>\n",
       "      <td>2</td>\n",
       "    </tr>\n",
       "  </tbody>\n",
       "</table>\n",
       "</div>"
      ],
      "text/plain": [
       "   danceability  energy  key  loudness  mode  speechiness  acousticness  \\\n",
       "0         0.554   0.899    8    -4.573     1       0.4080       0.05210   \n",
       "1         0.106   0.227    3   -15.286     1       0.0462       0.87700   \n",
       "2         0.530   0.143    8   -17.471     1       0.0423       0.95800   \n",
       "3         0.337   0.209    2   -16.656     0       0.0314       0.93500   \n",
       "4         0.402   0.873    4    -3.209     0       0.0586       0.00484   \n",
       "\n",
       "   instrumentalness  liveness  valence    tempo  duration_ms  time_signature  \\\n",
       "0          0.000000    0.0568   0.5520  171.966       227893               4   \n",
       "1          0.738000    0.1120   0.0391   59.940       530280               4   \n",
       "2          0.497000    0.2780   0.1190  125.464       442227               4   \n",
       "3          0.865000    0.1110   0.1400   89.158       185685               4   \n",
       "4          0.000073    0.1570   0.6840  125.443       253667               4   \n",
       "\n",
       "   Y  \n",
       "0  3  \n",
       "1  0  \n",
       "2  1  \n",
       "3  0  \n",
       "4  2  "
      ]
     },
     "execution_count": 21,
     "metadata": {},
     "output_type": "execute_result"
    }
   ],
   "source": [
    "dF = pd.read_csv('data//csvs//dataframeV1.csv', index_col=0)\n",
    "\n",
    "# Drop not usefull cols\n",
    "dF = dF.drop(['id', 'uri'], axis = 1)\n",
    "\n",
    "# Turn genres names into cat \n",
    "dF.label = pd.Categorical(dF.label)\n",
    "dF['Y'] = dF.label.cat.codes\n",
    "dF = dF.drop(['label'], axis = 1)\n",
    "\n",
    "# Shuffling the dataset\n",
    "dF = dF.sample(frac=1).reset_index(drop=True)\n",
    "\n",
    "dF.head()"
   ]
  },
  {
   "cell_type": "code",
   "execution_count": 7,
   "metadata": {},
   "outputs": [],
   "source": [
    "from DecisionTree.tree import Tree\n",
    "\n",
    "# Creating the decision Tree\n",
    "dT = Tree()"
   ]
  },
  {
   "cell_type": "code",
   "execution_count": 8,
   "metadata": {},
   "outputs": [],
   "source": [
    "# Prepare the dataset for the decision tree\n",
    "\n",
    "y = dF.Y \n",
    "X = dF.drop([\"Y\"], axis=1)\n",
    "\n",
    "# Split in train and validation\n",
    "x_train, x_test, y_train, y_test = train_test_split(X, y, random_state=43, train_size=.75)"
   ]
  },
  {
   "cell_type": "code",
   "execution_count": 9,
   "metadata": {},
   "outputs": [],
   "source": [
    "# Fit the tree on the train set \n",
    "dT.fit(x_train.to_numpy(), y_train.to_numpy())"
   ]
  },
  {
   "cell_type": "code",
   "execution_count": 10,
   "metadata": {},
   "outputs": [],
   "source": [
    "# Build the prediction over the validation set\n",
    "preds = dT.predict(x_test.to_numpy())"
   ]
  },
  {
   "cell_type": "code",
   "execution_count": 11,
   "metadata": {},
   "outputs": [
    {
     "data": {
      "text/plain": [
       "0.8930635838150289"
      ]
     },
     "execution_count": 11,
     "metadata": {},
     "output_type": "execute_result"
    }
   ],
   "source": [
    "# Calculate the overall accuracy.\n",
    "sum(preds == y_test) / len(preds)"
   ]
  },
  {
   "cell_type": "markdown",
   "metadata": {},
   "source": [
    "# random forest\n"
   ]
  },
  {
   "cell_type": "markdown",
   "metadata": {},
   "source": [
    "We now try to address one of the main problems when using DTs, that is overfitting. In fact is common for such models to learn on the noise and small variations in the data, if hyper-paramethers are not carefully tuned. \n",
    "\n",
    "A solution to this is to use Random Forests (RF). RF is an **ensamble learning** method that operates by constructing multiple decision trees. Many decision trees are constructed applying the general technique of bootstrapping.\n",
    "\n",
    "More formally if we have a training set $X = x_1, ..., x_n$ and the labels associated $Y = y_1, ...,y_n$ we **Bag** (Sample with replacment) from $\\{X,Y\\}$ $ B $ times and train a decision tree on this sample. We then in case of classification take the majority of votes from all the $B$ predictions as the final output of the RF model.\n",
    "\n",
    "Bootstrapping so help us solve the issue of overfitting. A step further in this direction would be modify the DT algorithm slightly, by looking at each step to only a portion of the features to find the best possible split. This not only improve the overall model accuracy and speed but also provide a further guard against overfitting. "
   ]
  },
  {
   "cell_type": "code",
   "execution_count": 12,
   "metadata": {},
   "outputs": [],
   "source": [
    "from RandomForest.randomForest import Forest"
   ]
  },
  {
   "cell_type": "markdown",
   "metadata": {},
   "source": [
    "So the first question is how many trees should build ? As there is no universal answer the best way to find out this hyperparameter is to use some model selection techniques. "
   ]
  },
  {
   "cell_type": "code",
   "execution_count": 16,
   "metadata": {},
   "outputs": [],
   "source": [
    "from sklearn.model_selection import cross_validate"
   ]
  },
  {
   "cell_type": "code",
   "execution_count": 76,
   "metadata": {},
   "outputs": [
    {
     "name": "stdout",
     "output_type": "stream",
     "text": [
      "Fitting Forest ID : T13D5\r"
     ]
    },
    {
     "name": "stderr",
     "output_type": "stream",
     "text": [
      "c:\\Users\\benjamin.barda\\Anaconda3\\lib\\site-packages\\sklearn\\model_selection\\_validation.py:372: FitFailedWarning: \n",
      "1 fits failed out of a total of 10.\n",
      "The score on these train-test partitions for these parameters will be set to nan.\n",
      "If these failures are not expected, you can try to debug them by setting error_score='raise'.\n",
      "\n",
      "Below are more details about the failures:\n",
      "--------------------------------------------------------------------------------\n",
      "1 fits failed with the following error:\n",
      "Traceback (most recent call last):\n",
      "  File \"c:\\Users\\benjamin.barda\\Anaconda3\\lib\\site-packages\\sklearn\\model_selection\\_validation.py\", line 680, in _fit_and_score\n",
      "    estimator.fit(X_train, y_train, **fit_params)\n",
      "  File \"c:\\Users\\benjamin.barda\\Documents\\GitHub\\spotyCARLO\\RandomForest\\randomForest.py\", line 29, in fit\n",
      "    t_boot.fit(x_boot, y_boot)\n",
      "  File \"c:\\Users\\benjamin.barda\\Documents\\GitHub\\spotyCARLO\\DecisionTree\\tree.py\", line 166, in fit\n",
      "    self.root = self._build(X,y)\n",
      "  File \"c:\\Users\\benjamin.barda\\Documents\\GitHub\\spotyCARLO\\DecisionTree\\tree.py\", line 151, in _build\n",
      "    l = self._build( X[l_idx, :], y[l_idx], depth + 1)\n",
      "  File \"c:\\Users\\benjamin.barda\\Documents\\GitHub\\spotyCARLO\\DecisionTree\\tree.py\", line 151, in _build\n",
      "    l = self._build( X[l_idx, :], y[l_idx], depth + 1)\n",
      "  File \"c:\\Users\\benjamin.barda\\Documents\\GitHub\\spotyCARLO\\DecisionTree\\tree.py\", line 152, in _build\n",
      "    r = self._build(X[r_idx, :], y[r_idx], depth + 1)\n",
      "  File \"c:\\Users\\benjamin.barda\\Documents\\GitHub\\spotyCARLO\\DecisionTree\\tree.py\", line 152, in _build\n",
      "    r = self._build(X[r_idx, :], y[r_idx], depth + 1)\n",
      "  File \"c:\\Users\\benjamin.barda\\Documents\\GitHub\\spotyCARLO\\DecisionTree\\tree.py\", line 151, in _build\n",
      "    l = self._build( X[l_idx, :], y[l_idx], depth + 1)\n",
      "  File \"c:\\Users\\benjamin.barda\\Documents\\GitHub\\spotyCARLO\\DecisionTree\\tree.py\", line 152, in _build\n",
      "    r = self._build(X[r_idx, :], y[r_idx], depth + 1)\n",
      "  File \"c:\\Users\\benjamin.barda\\Documents\\GitHub\\spotyCARLO\\DecisionTree\\tree.py\", line 138, in _build\n",
      "    return Node(value = np.argmax(np.bincount(y)))\n",
      "  File \"<__array_function__ internals>\", line 5, in argmax\n",
      "  File \"c:\\Users\\benjamin.barda\\Anaconda3\\lib\\site-packages\\numpy\\core\\fromnumeric.py\", line 1195, in argmax\n",
      "    return _wrapfunc(a, 'argmax', axis=axis, out=out)\n",
      "  File \"c:\\Users\\benjamin.barda\\Anaconda3\\lib\\site-packages\\numpy\\core\\fromnumeric.py\", line 57, in _wrapfunc\n",
      "    return bound(*args, **kwds)\n",
      "ValueError: attempt to get argmax of an empty sequence\n",
      "\n",
      "  warnings.warn(some_fits_failed_message, FitFailedWarning)\n"
     ]
    },
    {
     "name": "stdout",
     "output_type": "stream",
     "text": [
      "Fitting Forest ID : T14D3\r"
     ]
    },
    {
     "name": "stderr",
     "output_type": "stream",
     "text": [
      "c:\\Users\\benjamin.barda\\Anaconda3\\lib\\site-packages\\sklearn\\model_selection\\_validation.py:372: FitFailedWarning: \n",
      "1 fits failed out of a total of 10.\n",
      "The score on these train-test partitions for these parameters will be set to nan.\n",
      "If these failures are not expected, you can try to debug them by setting error_score='raise'.\n",
      "\n",
      "Below are more details about the failures:\n",
      "--------------------------------------------------------------------------------\n",
      "1 fits failed with the following error:\n",
      "Traceback (most recent call last):\n",
      "  File \"c:\\Users\\benjamin.barda\\Anaconda3\\lib\\site-packages\\sklearn\\model_selection\\_validation.py\", line 680, in _fit_and_score\n",
      "    estimator.fit(X_train, y_train, **fit_params)\n",
      "  File \"c:\\Users\\benjamin.barda\\Documents\\GitHub\\spotyCARLO\\RandomForest\\randomForest.py\", line 29, in fit\n",
      "    t_boot.fit(x_boot, y_boot)\n",
      "  File \"c:\\Users\\benjamin.barda\\Documents\\GitHub\\spotyCARLO\\DecisionTree\\tree.py\", line 166, in fit\n",
      "    self.root = self._build(X,y)\n",
      "  File \"c:\\Users\\benjamin.barda\\Documents\\GitHub\\spotyCARLO\\DecisionTree\\tree.py\", line 151, in _build\n",
      "    l = self._build( X[l_idx, :], y[l_idx], depth + 1)\n",
      "  File \"c:\\Users\\benjamin.barda\\Documents\\GitHub\\spotyCARLO\\DecisionTree\\tree.py\", line 152, in _build\n",
      "    r = self._build(X[r_idx, :], y[r_idx], depth + 1)\n",
      "  File \"c:\\Users\\benjamin.barda\\Documents\\GitHub\\spotyCARLO\\DecisionTree\\tree.py\", line 152, in _build\n",
      "    r = self._build(X[r_idx, :], y[r_idx], depth + 1)\n",
      "  File \"c:\\Users\\benjamin.barda\\Documents\\GitHub\\spotyCARLO\\DecisionTree\\tree.py\", line 152, in _build\n",
      "    r = self._build(X[r_idx, :], y[r_idx], depth + 1)\n",
      "  [Previous line repeated 2 more times]\n",
      "  File \"c:\\Users\\benjamin.barda\\Documents\\GitHub\\spotyCARLO\\DecisionTree\\tree.py\", line 138, in _build\n",
      "    return Node(value = np.argmax(np.bincount(y)))\n",
      "  File \"<__array_function__ internals>\", line 5, in argmax\n",
      "  File \"c:\\Users\\benjamin.barda\\Anaconda3\\lib\\site-packages\\numpy\\core\\fromnumeric.py\", line 1195, in argmax\n",
      "    return _wrapfunc(a, 'argmax', axis=axis, out=out)\n",
      "  File \"c:\\Users\\benjamin.barda\\Anaconda3\\lib\\site-packages\\numpy\\core\\fromnumeric.py\", line 57, in _wrapfunc\n",
      "    return bound(*args, **kwds)\n",
      "ValueError: attempt to get argmax of an empty sequence\n",
      "\n",
      "  warnings.warn(some_fits_failed_message, FitFailedWarning)\n"
     ]
    },
    {
     "name": "stdout",
     "output_type": "stream",
     "text": [
      "Fitting Forest ID : T14D5\r"
     ]
    }
   ],
   "source": [
    "parameters = {\n",
    "    'max_trees' : [x for x in range(5,15)],\n",
    "    'max_detph' : [2,3,4,5]\n",
    "}\n",
    "\n",
    "K = 10\n",
    "\n",
    "\n",
    "res_acc = {}\n",
    "res_time = {}\n",
    "for b in parameters['max_trees']: \n",
    "    res_acc['T' + str(b)] = list()\n",
    "    res_time['T' + str(b)] = list()\n",
    "    for d in parameters['max_detph']:\n",
    "        print(f\"Fitting Forest ID : T{b}D{d}\", end = '\\r')\n",
    "        score = cross_validate(Forest(max_trees=b, max_depth=6), X, y, scoring='accuracy', cv = K, n_jobs=-1 )\n",
    "        res_acc['T' + str(b)].append(sum(score['test_score']) / K)\n",
    "        res_time['T' + str(b)].append(sum(score['score_time']) / K)\n",
    "\n"
   ]
  },
  {
   "cell_type": "code",
   "execution_count": 77,
   "metadata": {},
   "outputs": [
    {
     "data": {
      "text/html": [
       "<div>\n",
       "<style scoped>\n",
       "    .dataframe tbody tr th:only-of-type {\n",
       "        vertical-align: middle;\n",
       "    }\n",
       "\n",
       "    .dataframe tbody tr th {\n",
       "        vertical-align: top;\n",
       "    }\n",
       "\n",
       "    .dataframe thead th {\n",
       "        text-align: right;\n",
       "    }\n",
       "</style>\n",
       "<table border=\"1\" class=\"dataframe\">\n",
       "  <thead>\n",
       "    <tr style=\"text-align: right;\">\n",
       "      <th></th>\n",
       "      <th>Depth</th>\n",
       "      <th>T5</th>\n",
       "      <th>T6</th>\n",
       "      <th>T7</th>\n",
       "      <th>T8</th>\n",
       "      <th>T9</th>\n",
       "      <th>T10</th>\n",
       "      <th>T11</th>\n",
       "      <th>T12</th>\n",
       "      <th>T13</th>\n",
       "      <th>T14</th>\n",
       "    </tr>\n",
       "  </thead>\n",
       "  <tbody>\n",
       "    <tr>\n",
       "      <th>0</th>\n",
       "      <td>2</td>\n",
       "      <td>(0.8525857574809717, 0.0030984878540039062)</td>\n",
       "      <td>(0.8735481180273172, 0.0029839515686035157)</td>\n",
       "      <td>(0.846950265874257, 0.0036997318267822264)</td>\n",
       "      <td>(0.8894588676884579, 0.0035001039505004883)</td>\n",
       "      <td>(0.888098217078511, 0.0041046142578125)</td>\n",
       "      <td>(0.8916536336148472, 0.004701352119445801)</td>\n",
       "      <td>(0.8888176415389427, 0.005103921890258789)</td>\n",
       "      <td>(0.8880512980919614, 0.0052003622055053714)</td>\n",
       "      <td>(0.8858930247106661, 0.005707049369812011)</td>\n",
       "      <td>(0.8750495255969136, 0.006203079223632812)</td>\n",
       "    </tr>\n",
       "    <tr>\n",
       "      <th>1</th>\n",
       "      <td>3</td>\n",
       "      <td>(0.8829788343238454, 0.002597355842590332)</td>\n",
       "      <td>(0.8764310290897714, 0.0029999732971191405)</td>\n",
       "      <td>(0.8743248879157545, 0.003403496742248535)</td>\n",
       "      <td>(0.8757585236158899, 0.0037553071975708007)</td>\n",
       "      <td>(0.856318423522052, 0.003993701934814453)</td>\n",
       "      <td>(0.8749765405067249, 0.004492855072021485)</td>\n",
       "      <td>(0.8721666145344594, 0.005800676345825195)</td>\n",
       "      <td>(0.8902408507976227, 0.005205631256103516)</td>\n",
       "      <td>(0.891705765822125, 0.006191158294677734)</td>\n",
       "      <td>(nan, 0.005389022827148438)</td>\n",
       "    </tr>\n",
       "    <tr>\n",
       "      <th>2</th>\n",
       "      <td>4</td>\n",
       "      <td>(0.8606349702846419, 0.0022997617721557616)</td>\n",
       "      <td>(0.8467834428109686, 0.003395342826843262)</td>\n",
       "      <td>(0.8858200396204776, 0.0035976409912109376)</td>\n",
       "      <td>(0.8895057866750079, 0.0037070751190185548)</td>\n",
       "      <td>(0.8620842456469606, 0.004105663299560547)</td>\n",
       "      <td>(0.8656709415076633, 0.0043030261993408205)</td>\n",
       "      <td>(0.8707642581586903, 0.00509953498840332)</td>\n",
       "      <td>(0.8750390991554582, 0.005202579498291016)</td>\n",
       "      <td>(0.9010687102491918, 0.00579991340637207)</td>\n",
       "      <td>(0.8851058283807737, 0.006003069877624512)</td>\n",
       "    </tr>\n",
       "    <tr>\n",
       "      <th>3</th>\n",
       "      <td>5</td>\n",
       "      <td>(0.8649358773850485, 0.0024002552032470702)</td>\n",
       "      <td>(0.8778646647899071, 0.003002429008483887)</td>\n",
       "      <td>(0.8750286727140028, 0.0035003900527954103)</td>\n",
       "      <td>(0.8836878323428214, 0.0036047220230102537)</td>\n",
       "      <td>(0.8844750286727139, 0.004000663757324219)</td>\n",
       "      <td>(0.8655979564174745, 0.004393911361694336)</td>\n",
       "      <td>(0.8945156917943906, 0.0047978639602661135)</td>\n",
       "      <td>(0.8685382129079345, 0.0054590702056884766)</td>\n",
       "      <td>(nan, 0.005699920654296875)</td>\n",
       "      <td>(0.8880825774163277, 0.005752372741699219)</td>\n",
       "    </tr>\n",
       "  </tbody>\n",
       "</table>\n",
       "</div>"
      ],
      "text/plain": [
       "   Depth                                           T5  \\\n",
       "0      2  (0.8525857574809717, 0.0030984878540039062)   \n",
       "1      3   (0.8829788343238454, 0.002597355842590332)   \n",
       "2      4  (0.8606349702846419, 0.0022997617721557616)   \n",
       "3      5  (0.8649358773850485, 0.0024002552032470702)   \n",
       "\n",
       "                                            T6  \\\n",
       "0  (0.8735481180273172, 0.0029839515686035157)   \n",
       "1  (0.8764310290897714, 0.0029999732971191405)   \n",
       "2   (0.8467834428109686, 0.003395342826843262)   \n",
       "3   (0.8778646647899071, 0.003002429008483887)   \n",
       "\n",
       "                                            T7  \\\n",
       "0   (0.846950265874257, 0.0036997318267822264)   \n",
       "1   (0.8743248879157545, 0.003403496742248535)   \n",
       "2  (0.8858200396204776, 0.0035976409912109376)   \n",
       "3  (0.8750286727140028, 0.0035003900527954103)   \n",
       "\n",
       "                                            T8  \\\n",
       "0  (0.8894588676884579, 0.0035001039505004883)   \n",
       "1  (0.8757585236158899, 0.0037553071975708007)   \n",
       "2  (0.8895057866750079, 0.0037070751190185548)   \n",
       "3  (0.8836878323428214, 0.0036047220230102537)   \n",
       "\n",
       "                                           T9  \\\n",
       "0     (0.888098217078511, 0.0041046142578125)   \n",
       "1   (0.856318423522052, 0.003993701934814453)   \n",
       "2  (0.8620842456469606, 0.004105663299560547)   \n",
       "3  (0.8844750286727139, 0.004000663757324219)   \n",
       "\n",
       "                                           T10  \\\n",
       "0   (0.8916536336148472, 0.004701352119445801)   \n",
       "1   (0.8749765405067249, 0.004492855072021485)   \n",
       "2  (0.8656709415076633, 0.0043030261993408205)   \n",
       "3   (0.8655979564174745, 0.004393911361694336)   \n",
       "\n",
       "                                           T11  \\\n",
       "0   (0.8888176415389427, 0.005103921890258789)   \n",
       "1   (0.8721666145344594, 0.005800676345825195)   \n",
       "2    (0.8707642581586903, 0.00509953498840332)   \n",
       "3  (0.8945156917943906, 0.0047978639602661135)   \n",
       "\n",
       "                                           T12  \\\n",
       "0  (0.8880512980919614, 0.0052003622055053714)   \n",
       "1   (0.8902408507976227, 0.005205631256103516)   \n",
       "2   (0.8750390991554582, 0.005202579498291016)   \n",
       "3  (0.8685382129079345, 0.0054590702056884766)   \n",
       "\n",
       "                                          T13  \\\n",
       "0  (0.8858930247106661, 0.005707049369812011)   \n",
       "1   (0.891705765822125, 0.006191158294677734)   \n",
       "2   (0.9010687102491918, 0.00579991340637207)   \n",
       "3                 (nan, 0.005699920654296875)   \n",
       "\n",
       "                                          T14  \n",
       "0  (0.8750495255969136, 0.006203079223632812)  \n",
       "1                 (nan, 0.005389022827148438)  \n",
       "2  (0.8851058283807737, 0.006003069877624512)  \n",
       "3  (0.8880825774163277, 0.005752372741699219)  "
      ]
     },
     "execution_count": 77,
     "metadata": {},
     "output_type": "execute_result"
    }
   ],
   "source": [
    "acc_df = pd.DataFrame.from_dict(res_acc, orient='columns')\n",
    "acc_df = pd.concat([pd.Series(parameters['max_detph'], name = 'Depth'),acc_df], axis = 1)\n",
    "\n",
    "time_df = pd.DataFrame.from_dict(res_time, orient='columns')\n",
    "time_df = pd.concat([pd.Series(parameters['max_detph'], name = 'Depth'),time_df], axis = 1)"
   ]
  },
  {
   "cell_type": "code",
   "execution_count": 78,
   "metadata": {},
   "outputs": [],
   "source": [
    "import json\n",
    "\n",
    "save = True\n",
    "\n",
    "\n",
    "if save:\n",
    "    with open('cv_acc_res.txt', 'w') as f: \n",
    "        acc_df.to_csv(f)\n",
    "        f.close()\n",
    "    with open('cv_time_res.txt', 'w') as f: \n",
    "        time_df.to_csv(f)\n",
    "        f.close()\n",
    "\n"
   ]
  },
  {
   "cell_type": "code",
   "execution_count": 80,
   "metadata": {},
   "outputs": [
    {
     "data": {
      "text/plain": [
       "<AxesSubplot:>"
      ]
     },
     "execution_count": 80,
     "metadata": {},
     "output_type": "execute_result"
    },
    {
     "data": {
      "image/png": "[encoded data removed]",
      "text/plain": [
       "<Figure size 432x288 with 1 Axes>"
      ]
     },
     "metadata": {
      "needs_background": "light"
     },
     "output_type": "display_data"
    }
   ],
   "source": [
    "met.plot()"
   ]
  },
  {
   "cell_type": "code",
   "execution_count": null,
   "metadata": {},
   "outputs": [],
   "source": []
  }
 ],
 "metadata": {
  "kernelspec": {
   "display_name": "Python 3.9.12 ('base')",
   "language": "python",
   "name": "python3"
  },
  "language_info": {
   "codemirror_mode": {
    "name": "ipython",
    "version": 3
   },
   "file_extension": ".py",
   "mimetype": "text/x-python",
   "name": "python",
   "nbconvert_exporter": "python",
   "pygments_lexer": "ipython3",
   "version": "3.9.12"
  },
  "orig_nbformat": 4,
  "vscode": {
   "interpreter": {
    "hash": "949ca02c6f6c8e46594f49d827909bb6cc1f655ba57a65a49f724deda5e66916"
   }
  }
 },
 "nbformat": 4,
 "nbformat_minor": 2
}
