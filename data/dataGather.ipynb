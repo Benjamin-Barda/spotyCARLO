{
 "cells": [
  {
   "cell_type": "markdown",
   "metadata": {},
   "source": [
    "# Data "
   ]
  },
  {
   "cell_type": "markdown",
   "metadata": {},
   "source": [
    "## 1. Data Gathering"
   ]
  },
  {
   "cell_type": "markdown",
   "metadata": {},
   "source": [
    "We connect to the spotifi API (spotipy) in order to retreive the dataset for our work. \n",
    "Let's go step by step into this process"
   ]
  },
  {
   "cell_type": "code",
   "execution_count": 168,
   "metadata": {},
   "outputs": [],
   "source": [
    "import pip \n",
    "import os\n",
    "\n",
    "# Only package not included with python\n",
    "try : \n",
    "    import spotipy\n",
    "except ImportError : \n",
    "    pip.main(['install', 'spotipy'])\n",
    "    import spotipy\n",
    "from spotipy.oauth2 import SpotifyClientCredentials\n",
    "\n",
    "import numpy as np \n",
    "import pandas as pd"
   ]
  },
  {
   "cell_type": "code",
   "execution_count": 169,
   "metadata": {},
   "outputs": [],
   "source": [
    "# Set this to false if already have the CSVs ready\n",
    "save_csv = False\n",
    "\n",
    "# If flag set to false then csvs are loaded from cvs_dir_name searching for csvs with name \"genre.csv\" where the genres are specified in the cell below§\n",
    "grab_from_api = False\n",
    "csv_dir_name = 'csvs' "
   ]
  },
  {
   "cell_type": "markdown",
   "metadata": {},
   "source": [
    "### Genres selection"
   ]
  },
  {
   "cell_type": "markdown",
   "metadata": {},
   "source": [
    "We decided to focus on classic, jazz, metal and rap as we beleive those are genres that greatly differs between each other, while at the same time sharing some common gray zones"
   ]
  },
  {
   "cell_type": "code",
   "execution_count": 170,
   "metadata": {},
   "outputs": [],
   "source": [
    "genres = ['classic', 'jazz', 'metal', 'rap']"
   ]
  },
  {
   "cell_type": "markdown",
   "metadata": {},
   "source": [
    "Loading spotify public and private key, and authentication"
   ]
  },
  {
   "cell_type": "code",
   "execution_count": 171,
   "metadata": {},
   "outputs": [],
   "source": [
    "credentials = {\n",
    "    'public' : 'e2b7e92cf8684577a314a8804b97337a', \n",
    "    'private': 'a847df678a5145d0a62381b255e4e4fd'\n",
    "    }\n",
    "\n",
    "client_credentials_manager = SpotifyClientCredentials(client_id=credentials['public'], client_secret=credentials['private'])\n",
    "spotyCarlo = spotipy.Spotify(client_credentials_manager=client_credentials_manager)"
   ]
  },
  {
   "cell_type": "markdown",
   "metadata": {},
   "source": [
    "Interaction with the API"
   ]
  },
  {
   "cell_type": "code",
   "execution_count": 172,
   "metadata": {},
   "outputs": [],
   "source": [
    "#TODO : Clean this function \n",
    "def createFrameFromUrl(url,  carlo = spotyCarlo) : \n",
    "\n",
    "    URI = url.split(\"/\")[-1].split(\"?\")[0]\n",
    "    offs = 0\n",
    "    feats = list()\n",
    "    \n",
    "    # Spotify Limit the number of items that it can be sent in a request to 100 so we have to loop adding offset untill empty body in response\n",
    "    while True:\n",
    "        # NOTE:  playlist_track method works only wor playlists made by users ... not genres !!!!\n",
    "        track_uris = [x[\"track\"][\"uri\"] for x in carlo.playlist_tracks(URI,offset=offs)[\"items\"]]\n",
    "        # Empty body\n",
    "        if track_uris == [] : \n",
    "            break\n",
    "        feats += carlo.audio_features(track_uris)\n",
    "        offs += 100\n",
    "    return pd.DataFrame(feats)\n"
   ]
  },
  {
   "cell_type": "code",
   "execution_count": 173,
   "metadata": {},
   "outputs": [],
   "source": [
    "# We then extract the dataframes for each genre and for each playlist of the genres and save them into a dictionary. so it is easy to concatenate them\n",
    "if grab_from_api == True:\n",
    "    dF_dict = {x : [] for x in genres}\n",
    "    for genre in genres :     \n",
    "        with open(os.path.join('urls', ''.join((genre, '_url.txt'))), 'r') as f:\n",
    "            for uri in f.readlines():\n",
    "                uri = uri.strip()\n",
    "                try:\n",
    "                    dF_dict[genre].append(createFrameFromUrl(uri))\n",
    "                except : \n",
    "                    print(f\"failed on {genre}\")\n",
    "                    \n",
    "        # This will raise error if nothing were retrieved\n",
    "        dF_dict[genre] = pd.concat([x for x in dF_dict[genre]])\n",
    "        if save_csv : \n",
    "            dF_dict[genre].to_csv(os.path.join(('csvs', genre + '.csv')))\n",
    "# IF cvs already exist\n",
    "else: \n",
    "    dF_dict = {genre : pd.read_csv(os.path.join(csv_dir_name, genre + '.csv'), index_col=0) for genre in genres}\n",
    "    "
   ]
  },
  {
   "cell_type": "markdown",
   "metadata": {},
   "source": [
    "## 2 Cleaning"
   ]
  },
  {
   "cell_type": "code",
   "execution_count": 181,
   "metadata": {},
   "outputs": [],
   "source": [
    "# Now we clean the dataset from duplicates and missing values, moreover we add the label column for the genre\n",
    "def cleanFrame(dF, col_to_drop = ['track_href', 'analysis_url', 'type'], genre = '') : \n",
    "    report = {\n",
    "        'duplicate_found' : 0, \n",
    "        'NaN_found' : 0, \n",
    "        'number_of_instances' : 0,\n",
    "        'labeled' : False\n",
    "    }\n",
    "\n",
    "    i_obs, _ = dF.shape\n",
    "\n",
    "    # Dropping columns we do not need\n",
    "    fin = dF.drop(col_to_drop, axis = 1) \n",
    "\n",
    "    fin = fin.drop_duplicates(subset='id', keep = 'first')\n",
    "    d_obs, _ = fin.shape\n",
    "    report['duplicate_found'] = i_obs - d_obs\n",
    "\n",
    "    fin = fin.dropna(how = 'any')\n",
    "    n_obs, _ = fin.shape\n",
    "    report['NaN_found'] = i_obs - n_obs\n",
    "\n",
    "    report['number_of_instances'] = n_obs\n",
    "\n",
    "    if genre != '' : \n",
    "        y  = pd.DataFrame([genre for _ in range(n_obs)], columns=['genre'])\n",
    "        fin['label'] = genre\n",
    "        report['labeled'] = True\n",
    "\n",
    "    return fin, report\n"
   ]
  },
  {
   "cell_type": "code",
   "execution_count": 175,
   "metadata": {},
   "outputs": [],
   "source": [
    "report = {}\n",
    "\n",
    "metal_df, report['metal'] = cleanFrame(dF_dict['metal'], genre='metal')\n",
    "jazz_df, report['jazz']= cleanFrame(dF_dict['jazz'], genre='jazz')\n",
    "classic_df, report['classic'] = cleanFrame(dF_dict['classic'], genre='classic')\n",
    "rap_df, report['rap'] = cleanFrame(dF_dict['rap'], genre='rap')"
   ]
  },
  {
   "cell_type": "code",
   "execution_count": 180,
   "metadata": {},
   "outputs": [
    {
     "name": "stdout",
     "output_type": "stream",
     "text": [
      "Report of metal:\n",
      "\t {'duplicate_found': 4, 'NaN_found': 4, 'number_of_instances': 406, 'labeled': True}\n",
      "----------------------------------------------------------------------------------------------------\n",
      "Report of jazz:\n",
      "\t {'duplicate_found': 18, 'NaN_found': 18, 'number_of_instances': 382, 'labeled': True}\n",
      "----------------------------------------------------------------------------------------------------\n",
      "Report of classic:\n",
      "\t {'duplicate_found': 4, 'NaN_found': 4, 'number_of_instances': 244, 'labeled': True}\n",
      "----------------------------------------------------------------------------------------------------\n",
      "Report of rap:\n",
      "\t {'duplicate_found': 5, 'NaN_found': 5, 'number_of_instances': 350, 'labeled': True}\n",
      "----------------------------------------------------------------------------------------------------\n"
     ]
    }
   ],
   "source": [
    "for rep in report : \n",
    "    print(f\"Report of {rep}:\\n\\t {report[rep]}\\n\" + \"-\"*100)"
   ]
  },
  {
   "cell_type": "code",
   "execution_count": null,
   "metadata": {},
   "outputs": [],
   "source": []
  }
 ],
 "metadata": {
  "interpreter": {
   "hash": "0f2db4cae5415ebadbac9cd1102aca7b871dbd5f50dbd86f4ca251b4061ba500"
  },
  "kernelspec": {
   "display_name": "Python 3.10.4 64-bit (windows store)",
   "language": "python",
   "name": "python3"
  },
  "language_info": {
   "codemirror_mode": {
    "name": "ipython",
    "version": 3
   },
   "file_extension": ".py",
   "mimetype": "text/x-python",
   "name": "python",
   "nbconvert_exporter": "python",
   "pygments_lexer": "ipython3",
   "version": "3.10.5"
  },
  "orig_nbformat": 4
 },
 "nbformat": 4,
 "nbformat_minor": 2
}
