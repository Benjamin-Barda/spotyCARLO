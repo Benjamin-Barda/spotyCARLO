{
 "cells": [
  {
   "cell_type": "markdown",
   "metadata": {},
   "source": [
    "# Data "
   ]
  },
  {
   "cell_type": "markdown",
   "metadata": {},
   "source": [
    "## 1. Data Gathering"
   ]
  },
  {
   "cell_type": "markdown",
   "metadata": {},
   "source": [
    "We connect to the spotifi API (spotipy) in order to retreive the dataset for our work. \n",
    "Let's go step by step into this process"
   ]
  },
  {
   "cell_type": "code",
   "execution_count": 1,
   "metadata": {},
   "outputs": [
    {
     "name": "stderr",
     "output_type": "stream",
     "text": [
      "c:\\Users\\benjamin.barda\\Anaconda3\\lib\\site-packages\\_distutils_hack\\__init__.py:30: UserWarning: Setuptools is replacing distutils.\n",
      "  warnings.warn(\"Setuptools is replacing distutils.\")\n",
      "WARNING: pip is being invoked by an old script wrapper. This will fail in a future version of pip.\n",
      "Please see https://github.com/pypa/pip/issues/5599 for advice on fixing the underlying issue.\n",
      "To avoid this problem you can invoke Python with '-m pip' instead of running pip directly.\n"
     ]
    },
    {
     "name": "stdout",
     "output_type": "stream",
     "text": [
      "Collecting spotipy\n",
      "  Downloading spotipy-2.20.0-py3-none-any.whl (27 kB)\n",
      "Requirement already satisfied: six>=1.15.0 in c:\\users\\benjamin.barda\\anaconda3\\lib\\site-packages (from spotipy) (1.16.0)\n",
      "Collecting redis>=3.5.3\n",
      "  Downloading redis-4.3.4-py3-none-any.whl (246 kB)\n",
      "Requirement already satisfied: urllib3>=1.26.0 in c:\\users\\benjamin.barda\\anaconda3\\lib\\site-packages (from spotipy) (1.26.9)\n",
      "Requirement already satisfied: requests>=2.25.0 in c:\\users\\benjamin.barda\\anaconda3\\lib\\site-packages (from spotipy) (2.27.1)\n",
      "Requirement already satisfied: packaging>=20.4 in c:\\users\\benjamin.barda\\anaconda3\\lib\\site-packages (from redis>=3.5.3->spotipy) (21.3)\n",
      "Collecting async-timeout>=4.0.2\n",
      "  Downloading async_timeout-4.0.2-py3-none-any.whl (5.8 kB)\n",
      "Collecting deprecated>=1.2.3\n",
      "  Downloading Deprecated-1.2.13-py2.py3-none-any.whl (9.6 kB)\n",
      "Requirement already satisfied: wrapt<2,>=1.10 in c:\\users\\benjamin.barda\\anaconda3\\lib\\site-packages (from deprecated>=1.2.3->redis>=3.5.3->spotipy) (1.12.1)\n",
      "Requirement already satisfied: pyparsing!=3.0.5,>=2.0.2 in c:\\users\\benjamin.barda\\anaconda3\\lib\\site-packages (from packaging>=20.4->redis>=3.5.3->spotipy) (3.0.4)\n",
      "Requirement already satisfied: certifi>=2017.4.17 in c:\\users\\benjamin.barda\\anaconda3\\lib\\site-packages (from requests>=2.25.0->spotipy) (2021.10.8)\n",
      "Requirement already satisfied: idna<4,>=2.5 in c:\\users\\benjamin.barda\\anaconda3\\lib\\site-packages (from requests>=2.25.0->spotipy) (3.3)\n",
      "Requirement already satisfied: charset-normalizer~=2.0.0 in c:\\users\\benjamin.barda\\anaconda3\\lib\\site-packages (from requests>=2.25.0->spotipy) (2.0.4)\n",
      "Installing collected packages: deprecated, async-timeout, redis, spotipy\n",
      "  Attempting uninstall: async-timeout\n",
      "    Found existing installation: async-timeout 4.0.1\n",
      "    Uninstalling async-timeout-4.0.1:\n",
      "      Successfully uninstalled async-timeout-4.0.1\n",
      "Successfully installed async-timeout-4.0.2 deprecated-1.2.13 redis-4.3.4 spotipy-2.20.0\n",
      "Note: NumExpr detected 16 cores but \"NUMEXPR_MAX_THREADS\" not set, so enforcing safe limit of 8.\n",
      "NumExpr defaulting to 8 threads.\n"
     ]
    }
   ],
   "source": [
    "import pip \n",
    "import os\n",
    "\n",
    "# Only package not included with python\n",
    "try : \n",
    "    import spotipy\n",
    "except ImportError : \n",
    "    pip.main(['install', 'spotipy'])\n",
    "    import spotipy\n",
    "from spotipy.oauth2 import SpotifyClientCredentials\n",
    "\n",
    "import numpy as np \n",
    "import pandas as pd"
   ]
  },
  {
   "cell_type": "code",
   "execution_count": 7,
   "metadata": {},
   "outputs": [],
   "source": [
    "# Set this to false if already have the CSVs ready\n",
    "save_csv = False\n",
    "\n",
    "# If flag set to false then csvs are loaded from cvs_dir_name searching for csvs with name \"genre.csv\" where the genres are specified in the cell below§\n",
    "grab_from_api = False\n",
    "csv_dir_name = 'csvs//dirty' \n",
    "\n",
    "# IF true after cleaning the dataset combine all the frames into a single one and save them into all_clean_path\n",
    "save_all_clean = False\n",
    "all_clean_path = 'dataframeV1.csv'\n",
    "\n",
    "# Save in separate files after cleaning, usefull for the first analysys part\n",
    "save_separate = False"
   ]
  },
  {
   "cell_type": "markdown",
   "metadata": {},
   "source": [
    "### Genres selection"
   ]
  },
  {
   "cell_type": "markdown",
   "metadata": {},
   "source": [
    "We decided to focus on classic, jazz, metal and rap as we beleive those are genres that greatly differs between each other, while at the same time sharing some common gray zones"
   ]
  },
  {
   "cell_type": "code",
   "execution_count": 3,
   "metadata": {},
   "outputs": [],
   "source": [
    "genres = ['classic', 'jazz', 'metal', 'rap']"
   ]
  },
  {
   "cell_type": "markdown",
   "metadata": {},
   "source": [
    "Loading spotify public and private key, and authentication"
   ]
  },
  {
   "cell_type": "code",
   "execution_count": 4,
   "metadata": {},
   "outputs": [],
   "source": [
    "credentials = {\n",
    "    'public' : 'e2b7e92cf8684577a314a8804b97337a', \n",
    "    'private': 'a847df678a5145d0a62381b255e4e4fd'\n",
    "    }\n",
    "\n",
    "client_credentials_manager = SpotifyClientCredentials(client_id=credentials['public'], client_secret=credentials['private'])\n",
    "spotyCarlo = spotipy.Spotify(client_credentials_manager=client_credentials_manager)"
   ]
  },
  {
   "cell_type": "markdown",
   "metadata": {},
   "source": [
    "Interaction with the API"
   ]
  },
  {
   "cell_type": "code",
   "execution_count": 5,
   "metadata": {},
   "outputs": [],
   "source": [
    "#TODO : Clean this function \n",
    "def createFrameFromUrl(url,  carlo = spotyCarlo) : \n",
    "\n",
    "    URI = url.split(\"/\")[-1].split(\"?\")[0]\n",
    "    offs = 0\n",
    "    feats = list()\n",
    "    \n",
    "    # Spotify Limit the number of items that it can be sent in a request to 100 so we have to loop adding offset untill empty body in response\n",
    "    while True:\n",
    "        # NOTE:  playlist_track method works only wor playlists made by users ... not genres !!!!\n",
    "        track_uris = [x[\"track\"][\"uri\"] for x in carlo.playlist_tracks(URI,offset=offs)[\"items\"]]\n",
    "        # Empty body\n",
    "        if track_uris == [] : \n",
    "            break\n",
    "        feats += carlo.audio_features(track_uris)\n",
    "        offs += 100\n",
    "    return pd.DataFrame(feats)\n"
   ]
  },
  {
   "cell_type": "code",
   "execution_count": 8,
   "metadata": {},
   "outputs": [],
   "source": [
    "# We then extract the dataframes for each genre and for each playlist of the genres and save them into a dictionary. so it is easy to concatenate them\n",
    "if grab_from_api == True:\n",
    "    dF_dict = {x : [] for x in genres}\n",
    "    for genre in genres :     \n",
    "        with open(os.path.join('urls', ''.join((genre, '_url.txt'))), 'r') as f:\n",
    "            for uri in f.readlines():\n",
    "                uri = uri.strip()\n",
    "                try:\n",
    "                    dF_dict[genre].append(createFrameFromUrl(uri))\n",
    "                except : \n",
    "                    print(f\"failed on {genre}\")\n",
    "                    \n",
    "        # This will raise error if nothing were retrieved\n",
    "        dF_dict[genre] = pd.concat([x for x in dF_dict[genre]])\n",
    "        if save_csv : \n",
    "            dF_dict[genre].to_csv(os.path.join(('csvs', genre + '.csv')))\n",
    "# IF cvs already exist\n",
    "else: \n",
    "    dF_dict = {genre : pd.read_csv(os.path.join(csv_dir_name, genre + '.csv'), index_col=0) for genre in genres}\n",
    "    "
   ]
  },
  {
   "cell_type": "markdown",
   "metadata": {},
   "source": [
    "## 2 Cleaning"
   ]
  },
  {
   "cell_type": "code",
   "execution_count": 9,
   "metadata": {},
   "outputs": [],
   "source": [
    "# Now we clean the dataset from duplicates and missing values, moreover we add the label column for the genre\n",
    "def cleanFrame(dF, col_to_drop = ['track_href', 'analysis_url', 'type'], genre = '') : \n",
    "    report = {\n",
    "        'duplicate_found' : 0, \n",
    "        'NaN_found' : 0, \n",
    "        'number_of_instances' : 0,\n",
    "        'labeled' : False\n",
    "    }\n",
    "\n",
    "    i_obs, _ = dF.shape\n",
    "\n",
    "    # Dropping columns we do not need\n",
    "    fin = dF.drop(col_to_drop, axis = 1) \n",
    "\n",
    "    fin = fin.drop_duplicates(subset='id', keep = 'first')\n",
    "    d_obs, _ = fin.shape\n",
    "    report['duplicate_found'] = i_obs - d_obs\n",
    "\n",
    "    fin = fin.dropna(how = 'any')\n",
    "    n_obs, _ = fin.shape\n",
    "    report['NaN_found'] = d_obs - n_obs\n",
    "\n",
    "    report['number_of_instances'] = n_obs\n",
    "\n",
    "    if genre != '' : \n",
    "        y  = pd.DataFrame([genre for _ in range(n_obs)], columns=['genre'])\n",
    "        fin['label'] = genre\n",
    "        report['labeled'] = True\n",
    "\n",
    "    return fin, report\n"
   ]
  },
  {
   "cell_type": "code",
   "execution_count": null,
   "metadata": {},
   "outputs": [],
   "source": [
    "report = {}\n",
    "\n",
    "\n",
    "for gen in genres : \n",
    "    dF_dict[gen], report[gen] = cleanFrame(dF_dict[gen], genre=gen)\n",
    "    if save_separate : \n",
    "        dF_dict[gen].to_csv(gen + '_cleaned.csv')\n",
    "\n",
    "if save_all_clean :\n",
    "    merged = pd.concat([dF_dict[x] for x in genres])\n",
    "    merged.to_csv(all_clean_path)\n",
    "\n",
    "    "
   ]
  },
  {
   "cell_type": "code",
   "execution_count": null,
   "metadata": {},
   "outputs": [
    {
     "name": "stdout",
     "output_type": "stream",
     "text": [
      "Report of classic:\n",
      "\t {'duplicate_found': 4, 'NaN_found': 0, 'number_of_instances': 244, 'labeled': True}\n",
      "----------------------------------------------------------------------------------------------------\n",
      "Report of jazz:\n",
      "\t {'duplicate_found': 18, 'NaN_found': 0, 'number_of_instances': 382, 'labeled': True}\n",
      "----------------------------------------------------------------------------------------------------\n",
      "Report of metal:\n",
      "\t {'duplicate_found': 4, 'NaN_found': 0, 'number_of_instances': 406, 'labeled': True}\n",
      "----------------------------------------------------------------------------------------------------\n",
      "Report of rap:\n",
      "\t {'duplicate_found': 5, 'NaN_found': 0, 'number_of_instances': 350, 'labeled': True}\n",
      "----------------------------------------------------------------------------------------------------\n"
     ]
    }
   ],
   "source": [
    "for rep in report : \n",
    "    print(f\"Report of {rep}:\\n\\t {report[rep]}\\n\" + \"-\"*100)"
   ]
  },
  {
   "cell_type": "code",
   "execution_count": null,
   "metadata": {},
   "outputs": [],
   "source": [
    "dF = pd.read_csv('.\\csvs\\Top50_clean.csv', index_col=0)\n",
    "\n",
    "def addPop(id):\n",
    "    return spotyCarlo.track(id)['popularity']\n",
    "\n",
    "dF.insert(15,'popularity',np.array(list(map(addPop,dF.iloc[:,11]))))\n",
    "dF.to_csv('.\\csvs\\Top50_clean.csv')\n"
   ]
  },
  {
   "cell_type": "code",
   "execution_count": null,
   "metadata": {},
   "outputs": [
    {
     "data": {
      "text/html": [
       "<div>\n",
       "<style scoped>\n",
       "    .dataframe tbody tr th:only-of-type {\n",
       "        vertical-align: middle;\n",
       "    }\n",
       "\n",
       "    .dataframe tbody tr th {\n",
       "        vertical-align: top;\n",
       "    }\n",
       "\n",
       "    .dataframe thead th {\n",
       "        text-align: right;\n",
       "    }\n",
       "</style>\n",
       "<table border=\"1\" class=\"dataframe\">\n",
       "  <thead>\n",
       "    <tr style=\"text-align: right;\">\n",
       "      <th></th>\n",
       "      <th>danceability</th>\n",
       "      <th>energy</th>\n",
       "      <th>key</th>\n",
       "      <th>loudness</th>\n",
       "      <th>mode</th>\n",
       "      <th>speechiness</th>\n",
       "      <th>acousticness</th>\n",
       "      <th>instrumentalness</th>\n",
       "      <th>liveness</th>\n",
       "      <th>valence</th>\n",
       "      <th>tempo</th>\n",
       "      <th>id</th>\n",
       "      <th>uri</th>\n",
       "      <th>duration_ms</th>\n",
       "      <th>time_signature</th>\n",
       "      <th>label</th>\n",
       "      <th>popularity</th>\n",
       "    </tr>\n",
       "  </thead>\n",
       "  <tbody>\n",
       "    <tr>\n",
       "      <th>0</th>\n",
       "      <td>0.2750</td>\n",
       "      <td>0.1570</td>\n",
       "      <td>7</td>\n",
       "      <td>-18.752</td>\n",
       "      <td>1</td>\n",
       "      <td>0.0636</td>\n",
       "      <td>0.890</td>\n",
       "      <td>0.842</td>\n",
       "      <td>0.186</td>\n",
       "      <td>0.3040</td>\n",
       "      <td>73.289</td>\n",
       "      <td>17i5jLpzndlQhbS4SrTd0B</td>\n",
       "      <td>spotify:track:17i5jLpzndlQhbS4SrTd0B</td>\n",
       "      <td>152280</td>\n",
       "      <td>4</td>\n",
       "      <td>classic</td>\n",
       "      <td>67</td>\n",
       "    </tr>\n",
       "    <tr>\n",
       "      <th>1</th>\n",
       "      <td>0.2210</td>\n",
       "      <td>0.1260</td>\n",
       "      <td>0</td>\n",
       "      <td>-25.427</td>\n",
       "      <td>1</td>\n",
       "      <td>0.0447</td>\n",
       "      <td>0.989</td>\n",
       "      <td>0.897</td>\n",
       "      <td>0.102</td>\n",
       "      <td>0.2160</td>\n",
       "      <td>133.630</td>\n",
       "      <td>4SFBV7SRNG2e2kyL1F6kjU</td>\n",
       "      <td>spotify:track:4SFBV7SRNG2e2kyL1F6kjU</td>\n",
       "      <td>139307</td>\n",
       "      <td>4</td>\n",
       "      <td>classic</td>\n",
       "      <td>60</td>\n",
       "    </tr>\n",
       "    <tr>\n",
       "      <th>2</th>\n",
       "      <td>0.2890</td>\n",
       "      <td>0.0306</td>\n",
       "      <td>9</td>\n",
       "      <td>-30.790</td>\n",
       "      <td>0</td>\n",
       "      <td>0.0446</td>\n",
       "      <td>0.987</td>\n",
       "      <td>0.911</td>\n",
       "      <td>0.102</td>\n",
       "      <td>0.1180</td>\n",
       "      <td>125.610</td>\n",
       "      <td>3zLTPuucd3e6TxZnu2dlVS</td>\n",
       "      <td>spotify:track:3zLTPuucd3e6TxZnu2dlVS</td>\n",
       "      <td>212067</td>\n",
       "      <td>3</td>\n",
       "      <td>classic</td>\n",
       "      <td>60</td>\n",
       "    </tr>\n",
       "    <tr>\n",
       "      <th>3</th>\n",
       "      <td>0.0753</td>\n",
       "      <td>0.0700</td>\n",
       "      <td>2</td>\n",
       "      <td>-27.272</td>\n",
       "      <td>1</td>\n",
       "      <td>0.0440</td>\n",
       "      <td>0.918</td>\n",
       "      <td>0.947</td>\n",
       "      <td>0.146</td>\n",
       "      <td>0.0625</td>\n",
       "      <td>79.801</td>\n",
       "      <td>7h6GoPvGHC9uzZJ8bNvfIq</td>\n",
       "      <td>spotify:track:7h6GoPvGHC9uzZJ8bNvfIq</td>\n",
       "      <td>365147</td>\n",
       "      <td>4</td>\n",
       "      <td>classic</td>\n",
       "      <td>56</td>\n",
       "    </tr>\n",
       "    <tr>\n",
       "      <th>4</th>\n",
       "      <td>0.1300</td>\n",
       "      <td>0.1580</td>\n",
       "      <td>2</td>\n",
       "      <td>-16.132</td>\n",
       "      <td>1</td>\n",
       "      <td>0.0350</td>\n",
       "      <td>0.748</td>\n",
       "      <td>0.924</td>\n",
       "      <td>0.100</td>\n",
       "      <td>0.0998</td>\n",
       "      <td>85.031</td>\n",
       "      <td>5x3TUfYzgZIdt0Kaop64ss</td>\n",
       "      <td>spotify:track:5x3TUfYzgZIdt0Kaop64ss</td>\n",
       "      <td>302093</td>\n",
       "      <td>4</td>\n",
       "      <td>classic</td>\n",
       "      <td>0</td>\n",
       "    </tr>\n",
       "  </tbody>\n",
       "</table>\n",
       "</div>"
      ],
      "text/plain": [
       "   danceability  energy  key  loudness  mode  speechiness  acousticness  \\\n",
       "0        0.2750  0.1570    7   -18.752     1       0.0636         0.890   \n",
       "1        0.2210  0.1260    0   -25.427     1       0.0447         0.989   \n",
       "2        0.2890  0.0306    9   -30.790     0       0.0446         0.987   \n",
       "3        0.0753  0.0700    2   -27.272     1       0.0440         0.918   \n",
       "4        0.1300  0.1580    2   -16.132     1       0.0350         0.748   \n",
       "\n",
       "   instrumentalness  liveness  valence    tempo                      id  \\\n",
       "0             0.842     0.186   0.3040   73.289  17i5jLpzndlQhbS4SrTd0B   \n",
       "1             0.897     0.102   0.2160  133.630  4SFBV7SRNG2e2kyL1F6kjU   \n",
       "2             0.911     0.102   0.1180  125.610  3zLTPuucd3e6TxZnu2dlVS   \n",
       "3             0.947     0.146   0.0625   79.801  7h6GoPvGHC9uzZJ8bNvfIq   \n",
       "4             0.924     0.100   0.0998   85.031  5x3TUfYzgZIdt0Kaop64ss   \n",
       "\n",
       "                                    uri  duration_ms  time_signature    label  \\\n",
       "0  spotify:track:17i5jLpzndlQhbS4SrTd0B       152280               4  classic   \n",
       "1  spotify:track:4SFBV7SRNG2e2kyL1F6kjU       139307               4  classic   \n",
       "2  spotify:track:3zLTPuucd3e6TxZnu2dlVS       212067               3  classic   \n",
       "3  spotify:track:7h6GoPvGHC9uzZJ8bNvfIq       365147               4  classic   \n",
       "4  spotify:track:5x3TUfYzgZIdt0Kaop64ss       302093               4  classic   \n",
       "\n",
       "   popularity  \n",
       "0          67  \n",
       "1          60  \n",
       "2          60  \n",
       "3          56  \n",
       "4           0  "
      ]
     },
     "execution_count": 3,
     "metadata": {},
     "output_type": "execute_result"
    }
   ],
   "source": [
    "dF = pd.read_csv('.\\csvs\\dataframeV2.csv', index_col=0)\n",
    "dF.head()"
   ]
  }
 ],
 "metadata": {
  "kernelspec": {
   "display_name": "Python 3.9.12 ('base')",
   "language": "python",
   "name": "python3"
  },
  "language_info": {
   "codemirror_mode": {
    "name": "ipython",
    "version": 3
   },
   "file_extension": ".py",
   "mimetype": "text/x-python",
   "name": "python",
   "nbconvert_exporter": "python",
   "pygments_lexer": "ipython3",
   "version": "3.9.12"
  },
  "orig_nbformat": 4,
  "vscode": {
   "interpreter": {
    "hash": "949ca02c6f6c8e46594f49d827909bb6cc1f655ba57a65a49f724deda5e66916"
   }
  }
 },
 "nbformat": 4,
 "nbformat_minor": 2
}
