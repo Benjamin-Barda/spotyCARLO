{
 "cells": [
  {
   "cell_type": "markdown",
   "metadata": {},
   "source": [
    "# Table of Contents"
   ]
  },
  {
   "cell_type": "markdown",
   "metadata": {},
   "source": [
    "1. [imports](#import)\n",
    "2. [Function for reading the csv files and dropping the unwanted columns](#readfile)\n",
    "3. [Standardize the data](#standardise)\n",
    "4. [Confusion Matrix, Classification Report and Accuracy Report](#confusionmatrix)\n",
    "5. [Explanation of k-means and k-means++](#exp)\n",
    "    - [K-means Algorithm](#kmeans)\n",
    "        - [Lloyd's Algorithm for k-means](#lloyd)\n",
    "    - [K-means++ Algorithm](#kmeans++)\n",
    "    - [Implementation of k-means, k-means++ and k-means furthest first](#implementation)\n",
    "6. [A wrapper function of <Confusion Matrix, Accuracy Score and Classification Report>](#confclus)\n",
    "7. [Elbow Curve](#elbow)\n",
    "8. [Clustering performance evaluation](#eval)\n",
    "    - [Silhouette Score](#silh)\n",
    "    - [Silhouette Implementation](#silimp)\n",
    "9. [Comparison between kmeans'](#outperform)"
   ]
  },
  {
   "cell_type": "markdown",
   "metadata": {},
   "source": [
    "### <a id=\"import\"></a> Imports"
   ]
  },
  {
   "cell_type": "code",
   "execution_count": 1,
   "metadata": {},
   "outputs": [
    {
     "ename": "ModuleNotFoundError",
     "evalue": "No module named 'numpy'",
     "output_type": "error",
     "traceback": [
      "\u001b[0;31m---------------------------------------------------------------------------\u001b[0m",
      "\u001b[0;31mModuleNotFoundError\u001b[0m                       Traceback (most recent call last)",
      "\u001b[1;32m/workspace/spotyCARLO/3-KMeans.ipynb Cell 4\u001b[0m in \u001b[0;36m<cell line: 1>\u001b[0;34m()\u001b[0m\n\u001b[0;32m----> <a href='vscode-notebook-cell://benjaminbard-spotycarlo-moq5vyarxbd.ws-eu54.gitpod.io/workspace/spotyCARLO/3-KMeans.ipynb#ch0000003vscode-remote?line=0'>1</a>\u001b[0m \u001b[39mimport\u001b[39;00m \u001b[39mnumpy\u001b[39;00m \u001b[39mas\u001b[39;00m \u001b[39mnp\u001b[39;00m\n\u001b[1;32m      <a href='vscode-notebook-cell://benjaminbard-spotycarlo-moq5vyarxbd.ws-eu54.gitpod.io/workspace/spotyCARLO/3-KMeans.ipynb#ch0000003vscode-remote?line=1'>2</a>\u001b[0m \u001b[39mfrom\u001b[39;00m \u001b[39mnumpy\u001b[39;00m \u001b[39mimport\u001b[39;00m linalg \u001b[39mas\u001b[39;00m la\n\u001b[1;32m      <a href='vscode-notebook-cell://benjaminbard-spotycarlo-moq5vyarxbd.ws-eu54.gitpod.io/workspace/spotyCARLO/3-KMeans.ipynb#ch0000003vscode-remote?line=2'>3</a>\u001b[0m \u001b[39mimport\u001b[39;00m \u001b[39mpandas\u001b[39;00m \u001b[39mas\u001b[39;00m \u001b[39mpd\u001b[39;00m\n",
      "\u001b[0;31mModuleNotFoundError\u001b[0m: No module named 'numpy'"
     ]
    }
   ],
   "source": [
    "import numpy as np\n",
    "from numpy import linalg as la\n",
    "import pandas as pd\n",
    "import matplotlib.pyplot as plt\n",
    "import sklearn\n",
    "from sklearn.model_selection import train_test_split\n",
    "from sklearn.metrics import accuracy_score\n",
    "from sklearn.cluster import KMeans\n",
    "from sklearn.metrics import accuracy_score, confusion_matrix, classification_report\n",
    "import seaborn as sns\n",
    "\n",
    "from warnings import filterwarnings\n",
    "filterwarnings('ignore')\n"
   ]
  },
  {
   "cell_type": "markdown",
   "metadata": {},
   "source": [
    "### <a id=\"readfile\"></a> Function for reading the csv files and dropping the unwanted columns"
   ]
  },
  {
   "cell_type": "code",
   "execution_count": 16,
   "metadata": {},
   "outputs": [
    {
     "data": {
      "text/html": [
       "<div>\n",
       "<style scoped>\n",
       "    .dataframe tbody tr th:only-of-type {\n",
       "        vertical-align: middle;\n",
       "    }\n",
       "\n",
       "    .dataframe tbody tr th {\n",
       "        vertical-align: top;\n",
       "    }\n",
       "\n",
       "    .dataframe thead th {\n",
       "        text-align: right;\n",
       "    }\n",
       "</style>\n",
       "<table border=\"1\" class=\"dataframe\">\n",
       "  <thead>\n",
       "    <tr style=\"text-align: right;\">\n",
       "      <th></th>\n",
       "      <th>danceability</th>\n",
       "      <th>energy</th>\n",
       "      <th>loudness</th>\n",
       "      <th>mode</th>\n",
       "      <th>speechiness</th>\n",
       "      <th>acousticness</th>\n",
       "      <th>instrumentalness</th>\n",
       "      <th>liveness</th>\n",
       "      <th>valence</th>\n",
       "      <th>tempo</th>\n",
       "      <th>duration_ms</th>\n",
       "      <th>label</th>\n",
       "    </tr>\n",
       "  </thead>\n",
       "  <tbody>\n",
       "    <tr>\n",
       "      <th>40</th>\n",
       "      <td>0.547</td>\n",
       "      <td>0.568</td>\n",
       "      <td>-8.878</td>\n",
       "      <td>0</td>\n",
       "      <td>0.1970</td>\n",
       "      <td>0.63600</td>\n",
       "      <td>0.000000</td>\n",
       "      <td>0.2430</td>\n",
       "      <td>0.265</td>\n",
       "      <td>92.151</td>\n",
       "      <td>181848</td>\n",
       "      <td>rap</td>\n",
       "    </tr>\n",
       "    <tr>\n",
       "      <th>41</th>\n",
       "      <td>0.647</td>\n",
       "      <td>0.612</td>\n",
       "      <td>-7.442</td>\n",
       "      <td>0</td>\n",
       "      <td>0.0681</td>\n",
       "      <td>0.08710</td>\n",
       "      <td>0.000000</td>\n",
       "      <td>0.2940</td>\n",
       "      <td>0.615</td>\n",
       "      <td>145.055</td>\n",
       "      <td>154958</td>\n",
       "      <td>rap</td>\n",
       "    </tr>\n",
       "    <tr>\n",
       "      <th>42</th>\n",
       "      <td>0.824</td>\n",
       "      <td>0.624</td>\n",
       "      <td>-7.485</td>\n",
       "      <td>0</td>\n",
       "      <td>0.0793</td>\n",
       "      <td>0.00919</td>\n",
       "      <td>0.014700</td>\n",
       "      <td>0.1070</td>\n",
       "      <td>0.695</td>\n",
       "      <td>160.084</td>\n",
       "      <td>149062</td>\n",
       "      <td>rap</td>\n",
       "    </tr>\n",
       "    <tr>\n",
       "      <th>43</th>\n",
       "      <td>0.528</td>\n",
       "      <td>0.705</td>\n",
       "      <td>-7.300</td>\n",
       "      <td>0</td>\n",
       "      <td>0.1560</td>\n",
       "      <td>0.28000</td>\n",
       "      <td>0.000000</td>\n",
       "      <td>0.0876</td>\n",
       "      <td>0.485</td>\n",
       "      <td>141.280</td>\n",
       "      <td>260735</td>\n",
       "      <td>rap</td>\n",
       "    </tr>\n",
       "    <tr>\n",
       "      <th>44</th>\n",
       "      <td>0.846</td>\n",
       "      <td>0.546</td>\n",
       "      <td>-10.145</td>\n",
       "      <td>1</td>\n",
       "      <td>0.3300</td>\n",
       "      <td>0.20500</td>\n",
       "      <td>0.000004</td>\n",
       "      <td>0.3270</td>\n",
       "      <td>0.710</td>\n",
       "      <td>137.941</td>\n",
       "      <td>180625</td>\n",
       "      <td>rap</td>\n",
       "    </tr>\n",
       "    <tr>\n",
       "      <th>45</th>\n",
       "      <td>0.651</td>\n",
       "      <td>0.761</td>\n",
       "      <td>-7.801</td>\n",
       "      <td>1</td>\n",
       "      <td>0.2500</td>\n",
       "      <td>0.44600</td>\n",
       "      <td>0.000035</td>\n",
       "      <td>0.1110</td>\n",
       "      <td>0.869</td>\n",
       "      <td>139.526</td>\n",
       "      <td>150857</td>\n",
       "      <td>rap</td>\n",
       "    </tr>\n",
       "    <tr>\n",
       "      <th>46</th>\n",
       "      <td>0.871</td>\n",
       "      <td>0.639</td>\n",
       "      <td>-7.821</td>\n",
       "      <td>1</td>\n",
       "      <td>0.3490</td>\n",
       "      <td>0.12100</td>\n",
       "      <td>0.000000</td>\n",
       "      <td>0.1930</td>\n",
       "      <td>0.764</td>\n",
       "      <td>141.060</td>\n",
       "      <td>205957</td>\n",
       "      <td>rap</td>\n",
       "    </tr>\n",
       "    <tr>\n",
       "      <th>47</th>\n",
       "      <td>0.617</td>\n",
       "      <td>0.477</td>\n",
       "      <td>-9.889</td>\n",
       "      <td>1</td>\n",
       "      <td>0.3600</td>\n",
       "      <td>0.00422</td>\n",
       "      <td>0.000000</td>\n",
       "      <td>0.0830</td>\n",
       "      <td>0.436</td>\n",
       "      <td>99.095</td>\n",
       "      <td>196801</td>\n",
       "      <td>rap</td>\n",
       "    </tr>\n",
       "    <tr>\n",
       "      <th>48</th>\n",
       "      <td>0.850</td>\n",
       "      <td>0.564</td>\n",
       "      <td>-9.631</td>\n",
       "      <td>0</td>\n",
       "      <td>0.3830</td>\n",
       "      <td>0.23800</td>\n",
       "      <td>0.000000</td>\n",
       "      <td>0.1110</td>\n",
       "      <td>0.348</td>\n",
       "      <td>139.920</td>\n",
       "      <td>150885</td>\n",
       "      <td>rap</td>\n",
       "    </tr>\n",
       "    <tr>\n",
       "      <th>49</th>\n",
       "      <td>0.736</td>\n",
       "      <td>0.518</td>\n",
       "      <td>-11.607</td>\n",
       "      <td>0</td>\n",
       "      <td>0.4680</td>\n",
       "      <td>0.37900</td>\n",
       "      <td>0.000000</td>\n",
       "      <td>0.0989</td>\n",
       "      <td>0.771</td>\n",
       "      <td>142.079</td>\n",
       "      <td>137306</td>\n",
       "      <td>rap</td>\n",
       "    </tr>\n",
       "  </tbody>\n",
       "</table>\n",
       "</div>"
      ],
      "text/plain": [
       "    danceability  energy  loudness  mode  speechiness  acousticness  \\\n",
       "40         0.547   0.568    -8.878     0       0.1970       0.63600   \n",
       "41         0.647   0.612    -7.442     0       0.0681       0.08710   \n",
       "42         0.824   0.624    -7.485     0       0.0793       0.00919   \n",
       "43         0.528   0.705    -7.300     0       0.1560       0.28000   \n",
       "44         0.846   0.546   -10.145     1       0.3300       0.20500   \n",
       "45         0.651   0.761    -7.801     1       0.2500       0.44600   \n",
       "46         0.871   0.639    -7.821     1       0.3490       0.12100   \n",
       "47         0.617   0.477    -9.889     1       0.3600       0.00422   \n",
       "48         0.850   0.564    -9.631     0       0.3830       0.23800   \n",
       "49         0.736   0.518   -11.607     0       0.4680       0.37900   \n",
       "\n",
       "    instrumentalness  liveness  valence    tempo  duration_ms label  \n",
       "40          0.000000    0.2430    0.265   92.151       181848   rap  \n",
       "41          0.000000    0.2940    0.615  145.055       154958   rap  \n",
       "42          0.014700    0.1070    0.695  160.084       149062   rap  \n",
       "43          0.000000    0.0876    0.485  141.280       260735   rap  \n",
       "44          0.000004    0.3270    0.710  137.941       180625   rap  \n",
       "45          0.000035    0.1110    0.869  139.526       150857   rap  \n",
       "46          0.000000    0.1930    0.764  141.060       205957   rap  \n",
       "47          0.000000    0.0830    0.436   99.095       196801   rap  \n",
       "48          0.000000    0.1110    0.348  139.920       150885   rap  \n",
       "49          0.000000    0.0989    0.771  142.079       137306   rap  "
      ]
     },
     "execution_count": 16,
     "metadata": {},
     "output_type": "execute_result"
    }
   ],
   "source": [
    "cols_to_drop = ['id', 'uri', \"key\", \"time_signature\"]\n",
    "\n",
    "def read_csv_files(file_name, cols_to_drop=cols_to_drop): \n",
    "    df = pd.read_csv(file_name, index_col=0)\n",
    "    df.drop(cols_to_drop, axis=1, inplace=True)\n",
    "    \n",
    "    labels = df['label']\n",
    "    \n",
    "    # This makes the categorical labels numbers. Print it to see...\n",
    "    y = labels.factorize()[0]\n",
    "    \n",
    "    return df, y\n",
    "\n",
    "df, y = read_csv_files(\"data\\csvs\\dataframeV1.csv\")\n",
    "\n",
    "df.tail(10)"
   ]
  },
  {
   "cell_type": "markdown",
   "metadata": {},
   "source": [
    "### <a id=\"standardise\"></a> Standardize the data\n",
    "\n",
    "We can drop the labels of our training data and then convert them on a single scale. We can standardize the values using the below formula.\n",
    "\n",
    "$$x_i = \\frac{{x}_i - mean(x)} {\\sigma(x)} $$\n",
    "\n",
    "It’s recommended to standardize the data to have a mean of zero and a standard deviation of one since almost always the features in any dataset would have different units of measurements such as age vs income."
   ]
  },
  {
   "cell_type": "code",
   "execution_count": 17,
   "metadata": {},
   "outputs": [
    {
     "data": {
      "text/html": [
       "<div>\n",
       "<style scoped>\n",
       "    .dataframe tbody tr th:only-of-type {\n",
       "        vertical-align: middle;\n",
       "    }\n",
       "\n",
       "    .dataframe tbody tr th {\n",
       "        vertical-align: top;\n",
       "    }\n",
       "\n",
       "    .dataframe thead th {\n",
       "        text-align: right;\n",
       "    }\n",
       "</style>\n",
       "<table border=\"1\" class=\"dataframe\">\n",
       "  <thead>\n",
       "    <tr style=\"text-align: right;\">\n",
       "      <th></th>\n",
       "      <th>danceability</th>\n",
       "      <th>energy</th>\n",
       "      <th>loudness</th>\n",
       "      <th>mode</th>\n",
       "      <th>speechiness</th>\n",
       "      <th>acousticness</th>\n",
       "      <th>instrumentalness</th>\n",
       "      <th>liveness</th>\n",
       "      <th>valence</th>\n",
       "      <th>tempo</th>\n",
       "      <th>duration_ms</th>\n",
       "    </tr>\n",
       "  </thead>\n",
       "  <tbody>\n",
       "    <tr>\n",
       "      <th>0</th>\n",
       "      <td>-1.100925</td>\n",
       "      <td>-1.050292</td>\n",
       "      <td>-0.834979</td>\n",
       "      <td>0.903018</td>\n",
       "      <td>-0.373430</td>\n",
       "      <td>1.090495</td>\n",
       "      <td>1.715003</td>\n",
       "      <td>0.113724</td>\n",
       "      <td>-0.370043</td>\n",
       "      <td>-1.362347</td>\n",
       "      <td>-0.946409</td>\n",
       "    </tr>\n",
       "    <tr>\n",
       "      <th>1</th>\n",
       "      <td>-1.368146</td>\n",
       "      <td>-1.141622</td>\n",
       "      <td>-1.661467</td>\n",
       "      <td>0.903018</td>\n",
       "      <td>-0.563558</td>\n",
       "      <td>1.329736</td>\n",
       "      <td>1.869971</td>\n",
       "      <td>-0.530812</td>\n",
       "      <td>-0.735956</td>\n",
       "      <td>0.579970</td>\n",
       "      <td>-1.045432</td>\n",
       "    </tr>\n",
       "    <tr>\n",
       "      <th>2</th>\n",
       "      <td>-1.031645</td>\n",
       "      <td>-1.422685</td>\n",
       "      <td>-2.325506</td>\n",
       "      <td>-1.106597</td>\n",
       "      <td>-0.564564</td>\n",
       "      <td>1.324903</td>\n",
       "      <td>1.909417</td>\n",
       "      <td>-0.530812</td>\n",
       "      <td>-1.143451</td>\n",
       "      <td>0.321814</td>\n",
       "      <td>-0.490055</td>\n",
       "    </tr>\n",
       "    <tr>\n",
       "      <th>3</th>\n",
       "      <td>-2.089151</td>\n",
       "      <td>-1.306607</td>\n",
       "      <td>-1.889913</td>\n",
       "      <td>0.903018</td>\n",
       "      <td>-0.570600</td>\n",
       "      <td>1.158159</td>\n",
       "      <td>2.010851</td>\n",
       "      <td>-0.193198</td>\n",
       "      <td>-1.374226</td>\n",
       "      <td>-1.152733</td>\n",
       "      <td>0.678405</td>\n",
       "    </tr>\n",
       "    <tr>\n",
       "      <th>4</th>\n",
       "      <td>-1.818465</td>\n",
       "      <td>-1.047346</td>\n",
       "      <td>-0.510575</td>\n",
       "      <td>0.903018</td>\n",
       "      <td>-0.661137</td>\n",
       "      <td>0.747340</td>\n",
       "      <td>1.946046</td>\n",
       "      <td>-0.546158</td>\n",
       "      <td>-1.219128</td>\n",
       "      <td>-0.984384</td>\n",
       "      <td>0.197114</td>\n",
       "    </tr>\n",
       "    <tr>\n",
       "      <th>5</th>\n",
       "      <td>-1.997108</td>\n",
       "      <td>-1.413846</td>\n",
       "      <td>-1.489855</td>\n",
       "      <td>-1.106597</td>\n",
       "      <td>-0.403609</td>\n",
       "      <td>1.179908</td>\n",
       "      <td>1.681192</td>\n",
       "      <td>-0.581454</td>\n",
       "      <td>-1.419549</td>\n",
       "      <td>-1.553228</td>\n",
       "      <td>-0.526693</td>\n",
       "    </tr>\n",
       "    <tr>\n",
       "      <th>6</th>\n",
       "      <td>-0.601121</td>\n",
       "      <td>-1.495779</td>\n",
       "      <td>-2.427656</td>\n",
       "      <td>-1.106597</td>\n",
       "      <td>-0.433788</td>\n",
       "      <td>1.346652</td>\n",
       "      <td>2.002398</td>\n",
       "      <td>-0.636700</td>\n",
       "      <td>-1.480673</td>\n",
       "      <td>-1.409408</td>\n",
       "      <td>0.154270</td>\n",
       "    </tr>\n",
       "    <tr>\n",
       "      <th>7</th>\n",
       "      <td>-1.625471</td>\n",
       "      <td>-1.465404</td>\n",
       "      <td>-2.355718</td>\n",
       "      <td>-1.106597</td>\n",
       "      <td>-0.568588</td>\n",
       "      <td>1.322486</td>\n",
       "      <td>1.765720</td>\n",
       "      <td>-0.695783</td>\n",
       "      <td>-1.395848</td>\n",
       "      <td>0.403349</td>\n",
       "      <td>-0.778582</td>\n",
       "    </tr>\n",
       "    <tr>\n",
       "      <th>8</th>\n",
       "      <td>-0.804011</td>\n",
       "      <td>-1.498077</td>\n",
       "      <td>-2.644462</td>\n",
       "      <td>0.903018</td>\n",
       "      <td>-0.559534</td>\n",
       "      <td>1.339402</td>\n",
       "      <td>1.931958</td>\n",
       "      <td>-0.839269</td>\n",
       "      <td>-1.474852</td>\n",
       "      <td>0.530238</td>\n",
       "      <td>0.142667</td>\n",
       "    </tr>\n",
       "    <tr>\n",
       "      <th>9</th>\n",
       "      <td>-1.447323</td>\n",
       "      <td>-1.310731</td>\n",
       "      <td>-1.412345</td>\n",
       "      <td>-1.106597</td>\n",
       "      <td>-0.548469</td>\n",
       "      <td>1.049413</td>\n",
       "      <td>0.475261</td>\n",
       "      <td>-0.615983</td>\n",
       "      <td>-1.484831</td>\n",
       "      <td>-0.799362</td>\n",
       "      <td>0.465490</td>\n",
       "    </tr>\n",
       "  </tbody>\n",
       "</table>\n",
       "</div>"
      ],
      "text/plain": [
       "   danceability    energy  loudness      mode  speechiness  acousticness  \\\n",
       "0     -1.100925 -1.050292 -0.834979  0.903018    -0.373430      1.090495   \n",
       "1     -1.368146 -1.141622 -1.661467  0.903018    -0.563558      1.329736   \n",
       "2     -1.031645 -1.422685 -2.325506 -1.106597    -0.564564      1.324903   \n",
       "3     -2.089151 -1.306607 -1.889913  0.903018    -0.570600      1.158159   \n",
       "4     -1.818465 -1.047346 -0.510575  0.903018    -0.661137      0.747340   \n",
       "5     -1.997108 -1.413846 -1.489855 -1.106597    -0.403609      1.179908   \n",
       "6     -0.601121 -1.495779 -2.427656 -1.106597    -0.433788      1.346652   \n",
       "7     -1.625471 -1.465404 -2.355718 -1.106597    -0.568588      1.322486   \n",
       "8     -0.804011 -1.498077 -2.644462  0.903018    -0.559534      1.339402   \n",
       "9     -1.447323 -1.310731 -1.412345 -1.106597    -0.548469      1.049413   \n",
       "\n",
       "   instrumentalness  liveness   valence     tempo  duration_ms  \n",
       "0          1.715003  0.113724 -0.370043 -1.362347    -0.946409  \n",
       "1          1.869971 -0.530812 -0.735956  0.579970    -1.045432  \n",
       "2          1.909417 -0.530812 -1.143451  0.321814    -0.490055  \n",
       "3          2.010851 -0.193198 -1.374226 -1.152733     0.678405  \n",
       "4          1.946046 -0.546158 -1.219128 -0.984384     0.197114  \n",
       "5          1.681192 -0.581454 -1.419549 -1.553228    -0.526693  \n",
       "6          2.002398 -0.636700 -1.480673 -1.409408     0.154270  \n",
       "7          1.765720 -0.695783 -1.395848  0.403349    -0.778582  \n",
       "8          1.931958 -0.839269 -1.474852  0.530238     0.142667  \n",
       "9          0.475261 -0.615983 -1.484831 -0.799362     0.465490  "
      ]
     },
     "execution_count": 17,
     "metadata": {},
     "output_type": "execute_result"
    }
   ],
   "source": [
    "X = df.drop([\"label\"], axis=1)\n",
    "\n",
    "def standardise(X):\n",
    "    # mean and standard deviation of all the features irrespective of class differences\n",
    "    mean_all   = X.mean()  \n",
    "    std_all    = X.std() \n",
    "\n",
    "    # standardised values\n",
    "    X_standardised = (X-mean_all)/std_all\n",
    "    return X_standardised\n",
    "\n",
    "X_standardised = standardise(X)\n",
    "X_standardised.head(10)\n"
   ]
  },
  {
   "cell_type": "markdown",
   "metadata": {},
   "source": [
    "### <a id=\"confusionmatrix\"></a> Plot the Confusion Matrix and print the Classification Report and Accuracy Score"
   ]
  },
  {
   "cell_type": "code",
   "execution_count": 18,
   "metadata": {},
   "outputs": [],
   "source": [
    "labels = [\"Classic\", \"Jazz\", \"Metal\", \"Rap\"]\n",
    "\n",
    "def confusion_matrix_score(ytest, ypred, labels=labels):\n",
    "    \n",
    "    score = accuracy_score(ytest, ypred) * 100\n",
    "    print(f\"The accuracy score is {score:.2f}%.\", end=\"\\n\\n\")\n",
    "    \n",
    "    conf_matrix = confusion_matrix(ytest, ypred)\n",
    "\n",
    "    sns.heatmap(conf_matrix, square=True, annot=True, fmt='d', cbar=True, lw=0.6,\n",
    "                xticklabels=labels,\n",
    "                yticklabels=labels)\n",
    "\n",
    "    plt.title(\"Confusion Matrix\", color=\"blue\", fontsize=25)\n",
    "\n",
    "    plt.xlabel('True Label')\n",
    "    plt.ylabel('Predicted Label');\n",
    "\n",
    "    # classification_report\n",
    "    print(f\"classification_report: \\n{ classification_report(ytest, ypred, target_names=labels) }\", end=\"\\n\\n\")\n",
    "    "
   ]
  },
  {
   "cell_type": "markdown",
   "metadata": {},
   "source": [
    "### <a id=\"exp\"></a> Explanation of k-means and k-means++"
   ]
  },
  {
   "cell_type": "markdown",
   "metadata": {},
   "source": [
    "Clustering is one of the most common exploratory data analysis technique used to get an intuition about the structure of the data. It can be defined as the task of identifying subgroups in the data such that data points in the same subgroup (cluster) are very similar while data points in different clusters are very different. In other words, we try to find homogeneous subgroups within the data such that data points in each cluster are as similar as possible according to a similarity measure such as euclidean-based distance or correlation-based distance. The decision of which similarity measure to use is application-specific."
   ]
  },
  {
   "cell_type": "markdown",
   "metadata": {},
   "source": [
    "Clustering is used in market segmentation; where we try to find customers that are similar to each other whether in terms of behaviors or attributes, image segmentation/compression; where we try to group similar regions together, document clustering based on topics, etc. In our case, clustering based on music genre of either being \"Classic\", \"Jazz\", \"Metal\" and \"Rap\". "
   ]
  },
  {
   "cell_type": "markdown",
   "metadata": {},
   "source": [
    "### <a id=\"kmeans\"></a> Kmeans Algorithm\n",
    "Kmeans algorithm is an iterative algorithm that tries to partition the dataset into \"K\" pre-defined distinct non-overlapping subgroups (clusters) where each data point belongs to only one group. It tries to make the intra-cluster data points as similar as possible while also keeping the clusters as different (far) as possible. It assigns data points to a cluster such that the sum of the squared distance between the data points and the cluster’s centroid (arithmetic mean of all the data points that belong to that cluster) is at the minimum. The less variation we have within clusters, the more homogeneous (similar) the data points are within the same cluster.\n",
    "\n",
    "That is, K-means algorithm aims to choose centroids that minimise the inertia, or within-cluster sum-of-squares criterion:\n",
    "\n",
    "$$\\sum_{i=0}^n \\underset{\\mu_j \\in \\mathbf{C}}{\\text{min}}(||x_i - \\mu_j||^2)$$\n",
    "Inertia can be recognized as a measure of how internally coherent clusters are"
   ]
  },
  {
   "cell_type": "markdown",
   "metadata": {},
   "source": [
    "The way kmeans algorithm works is as follows:\n",
    "\n",
    "1. Specify number of clusters K.\n",
    "2. Initialize centroids by first shuffling the dataset and then randomly selecting K data points for the centroids without replacement.\n",
    "3. Keep iterating until there is no change to the centroids. i.e assignment of data points to clusters isn’t changing.\n",
    "    - Compute the sum of the squared distance between data points and all centroids.\n",
    "    - Assign each data point to the closest cluster (centroid).\n",
    "    - Compute the centroids for the clusters by taking the average of the all data points that belong to each cluster."
   ]
  },
  {
   "cell_type": "markdown",
   "metadata": {},
   "source": [
    "The approach kmeans follows to solve the problem is called Expectation-Maximization. \n",
    "1. The E-step is assigning the data points to the closest cluster. \n",
    "2. The M-step is computing the centroid of each cluster.\n",
    "\n",
    "K-means itself is NP-HARD. But there are approximation algorithms that converge to a local minimum, one of which is the Lloyd's algorithm which we will use for this section of the project; though we will implement the k-means++ with a smart initialization of all the centroids as would be seen in later sections below."
   ]
  },
  {
   "cell_type": "markdown",
   "metadata": {},
   "source": [
    "#### <a id=\"lloyd\"></a> Lloyd's Algorithm for k-means"
   ]
  },
  {
   "cell_type": "markdown",
   "metadata": {},
   "source": [
    "- $\\mu_1, \\cdots, \\mu_k \\leftarrow$ randomly chosen centers\n",
    "- **while** Objective function still improves **do** \n",
    "    - $S_i, \\cdots, S_k \\leftarrow \\phi$\n",
    "    - **for** i $\\in$ 1,..., N **do**\n",
    "        - j $\\leftarrow \\text{argmin}_j ||x_i - \\mu_j||^2$\n",
    "        - add i to $S_j$\n",
    "    - **end for**\n",
    "    - **for** j $\\in$ 1,...,k **do**\n",
    "        - $\\mu_j = \\frac{1}{|S_j|} \\sum_{i \\in S_j} x_i$\n",
    "    - **end for**\n",
    "- **end while**\n",
    "\n"
   ]
  },
  {
   "cell_type": "markdown",
   "metadata": {},
   "source": [
    "#### <a id=\"kmeans++\"></a> k-means++\n",
    "\n",
    "This algorithm ensures a smarter initialization of the centroids and \"improves\" the quality of the clustering. (Really? We shall elaborate on this later.) Apart from initialization, the rest of the algorithm is the same as the standard K-means algorithm. That is K-means++ is the standard K-means algorithm coupled with a smarter initialization of the centroids.\n",
    " \n",
    "Still sensitive to outliers as we shall explain in a later section."
   ]
  },
  {
   "cell_type": "markdown",
   "metadata": {},
   "source": [
    "**Initialisation**\n",
    "\n",
    "- C $\\leftarrow \\text{sample a point uniformly from } \\mathbf{X} $\n",
    "- **while** |C| < k **do**\n",
    "    - sample x $\\in \\mathbf{X} \\text{ with probability proportional to } d^2 (x,C), \\\\\n",
    "     \\text{where d(x,C) is the distance between x and centroid C }$\n",
    "    - C $\\leftarrow \\cup \\space{} \\{x\\}$\n",
    "- **end while**"
   ]
  },
  {
   "cell_type": "markdown",
   "metadata": {},
   "source": [
    "The algorithm in plain english\n",
    "\n",
    "1. Choose one center uniformly at random among the data points.\n",
    "2. For each data point x not chosen yet, compute D(x), the distance between x and the nearest center that has already been chosen.\n",
    "3. Choose one new data point at random as a new center, using a weighted probability distribution where a point x is chosen with probability proportional to $D(x)^2$.\n",
    "4. Repeat Steps 2 and 3 until k centers have been chosen.\n",
    "5. Now that the initial centers have been chosen, proceed using standard k-means clustering."
   ]
  },
  {
   "cell_type": "markdown",
   "metadata": {},
   "source": [
    "### <a id=\"implementation\"></a> Class implementation of the k-means++ algorithm"
   ]
  },
  {
   "cell_type": "code",
   "execution_count": 19,
   "metadata": {},
   "outputs": [],
   "source": [
    "class KMeans_plus_plus:\n",
    "    \"\"\"\n",
    "    1. furthest first when string is \"in\"  \"furthest_first\"\n",
    "    2. kmeans         when string is either None or equals kmeans\n",
    "    2. kmeans++       For any other string\n",
    "    \"\"\"\n",
    "    \n",
    "    def __init__(self, K=4, init=\"kmeans++\", rand_seed=None):\n",
    "        self.K = K\n",
    "        self.init = init\n",
    "        self.rand_seed = rand_seed\n",
    "    \n",
    "        # list of sample indices for each cluster\n",
    "        self.clusters = [[] for _ in range(self.K)]\n",
    "        # the centers (mean feature vector) for each cluster\n",
    "        self.centroids = []\n",
    "        self.__set_seed()\n",
    "\n",
    "    ##########################################################################################\n",
    "    # kmeans furthest first initialization\n",
    "    def __initialize_centroids_further_first(self):\n",
    "        \n",
    "        centroids = list( self.__random_centroid(how_many_centroids=1) )\n",
    "    \n",
    "        ## compute the remaining k - 1 centroids\n",
    "        for _ in range(self.K - 1):\n",
    "            next_cent_id = self.__max_arg(centroids)\n",
    "            centroids.append(self.X[next_cent_id, :])\n",
    "        return np.array(centroids)\n",
    "\n",
    "    #kmeans++ initialization\n",
    "    def __plus_plus_init(self):\n",
    "        # (K, d) \n",
    "        centroids = np.zeros((self.K, self.X.shape[1]), dtype=np.float32)\n",
    "        # First centroid | note randint sample from discrete uniform\n",
    "        centroids[0,:] = self.X[np.random.randint(low = 0, high = self.X.shape[0], size = 1), : ]\n",
    "\n",
    "        for k in range (1, self.K) : \n",
    "            # Calculate the distance to the closest centroid for each point\n",
    "            d = np.asarray([self.__min_dist(point, centroids[:k,:]) for point in self.X])\n",
    "            d_sum = np.sum(d)\n",
    "\n",
    "            # Turn the distance into probabilities that sums up to one\n",
    "            d /= d_sum\n",
    "        \n",
    "            # sample with distance as weight the new centroid\n",
    "            centroids[k, :] = self.X[np.random.choice(self.X.shape[0], p=d),:]\n",
    "\n",
    "        return centroids         \n",
    "    \n",
    "    def __max_arg(self, centroids):\n",
    "        return np.argmax([ self.__min_dist(point,centroids ) for point in self.X])\n",
    "        \n",
    "    def __min_dist(self, point, centroids):\n",
    "        return min( [ self.euclidean_distance(point, centroid)**2 for centroid in centroids] ) \n",
    "    \n",
    "    ##########################################################################################\n",
    "    # get the how_many_centroids \"centroids\". 1 if k-means++, but k if k-means\n",
    "    def __random_centroid(self, how_many_centroids):\n",
    "        #self.__set_seed() \n",
    "        l = self.X.shape[0]\n",
    "        choices = np.random.choice(l, how_many_centroids)\n",
    "        return np.array(self.X[choices, :])\n",
    "    \n",
    "    # set the random seed for reproducibility\n",
    "    def __set_seed(self):\n",
    "        if self.rand_seed is not None and isinstance(self.rand_seed, int):\n",
    "            np.random.seed(self.rand_seed)\n",
    "    ##########################################################################################\n",
    "    def fit_predict(self, X):\n",
    "        self.X = X\n",
    "        # print(self.X.shape)\n",
    "        self.n_samples, self.n_features = X.shape\n",
    "\n",
    "        #Initialisations...\n",
    "        if self.init in 'further_first': \n",
    "            self.centroids = self.__initialize_centroids_further_first()\n",
    "        elif self.init is None or self.init == \"kmeans\": \n",
    "            self.centroids = self.__random_centroid(how_many_centroids=self.K)\n",
    "        # Kmean ++\n",
    "        else: \n",
    "            self.centroids = self.__plus_plus_init()\n",
    "\n",
    "        \n",
    "                    \n",
    "        #Initialize an empty array to compare with current centroids to see if convergence occurs...\n",
    "        i, j = self.centroids.shape\n",
    "        centroids_old = np.zeros(shape=(i, j) )\n",
    "\n",
    "        #if the current centroids are the same as the previous centroids, then stop\n",
    "        while not self.__has_converged(centroids_old, self.centroids) :\n",
    "            \n",
    "            # Assign samples to closest centroids (create clusters)\n",
    "            self.clusters = self.__create_clusters(self.centroids)\n",
    "\n",
    "            # Calculate new centroids from the clusters\n",
    "            centroids_old = self.centroids\n",
    "            self.centroids = self.__centroids_means_of_clusters(self.clusters)\n",
    "\n",
    "        # Classify samples as the index of their clusters\n",
    "        return self.__get_cluster_labels(self.clusters)\n",
    "\n",
    "    # each sample will get the label of the cluster it was assigned to\n",
    "    def __get_cluster_labels(self, clusters):\n",
    "        labels = np.empty(self.n_samples)\n",
    "        for cluster_idx, cluster in enumerate(clusters):\n",
    "            labels[cluster] = cluster_idx\n",
    "        return labels\n",
    "    \n",
    "    # Assign the samples to the closest centroids to create clusters; Expectation step\n",
    "    def __create_clusters(self, centroids):\n",
    "        clusters = [[] for _ in range(self.K)]\n",
    "        for idx, sample in enumerate(self.X):\n",
    "            centroid_idx = self.__closest_centroid_label(sample, centroids)\n",
    "            clusters[centroid_idx].append(idx)\n",
    "        return clusters\n",
    "    \n",
    "    # arg that minimizes the distance of the current sample to each centroid\n",
    "    def __closest_centroid_label(self, point, centroids):\n",
    "        return np.argmin( [ self.euclidean_distance(point, centroid)**2 for centroid in centroids] ) \n",
    "\n",
    "    # assign mean value of clusters to centroids; Maximisation step\n",
    "    def __centroids_means_of_clusters(self, clusters):\n",
    "        return [ np.mean(self.X[cluster], axis=0) for cluster in clusters]\n",
    "        \n",
    "    # distances between each old and new centroids\n",
    "    def __has_converged(self, old_centroids, current_centroids):\n",
    "        distances = [self.euclidean_distance(old_centroids[i], current_centroids[i])**2 for i in range(self.K)]\n",
    "        return sum(distances) == 0\n",
    "    \n",
    "    def euclidean_distance(self, point1, point2):\n",
    "        return la.norm(point1 - point2)\n",
    "        \n"
   ]
  },
  {
   "cell_type": "markdown",
   "metadata": {},
   "source": [
    "### <a id=\"confclus\"></a> A wrapper function of <Confusion Matrix, Accuracy Score and Classification Report> for just clusterings in order to get the true labels match the predicted labels. After the label matching, this function calls our earlier function called confusion_matrix_score."
   ]
  },
  {
   "cell_type": "code",
   "execution_count": 20,
   "metadata": {},
   "outputs": [],
   "source": [
    "from scipy import stats\n",
    "def confusion_scores(y,y_pred):\n",
    "    dic = {0:[], 1:[], 2:[], 3:[]}\n",
    "    for i in range(len(y)):\n",
    "        dic[y[i]].append(y_pred[i])\n",
    "    for n in range(4):\n",
    "        dic[n] = int(stats.mode(dic[n])[0])  # still have to handle cases where two clusters have the same label mode!!! if the random seed changes this can be a problem\n",
    "    real = []\n",
    "    for elem in y:\n",
    "        real.append(dic[elem])\n",
    "    real = np.array(real)\n",
    "    confusion_matrix_score(real, y_pred)\n",
    "    return real"
   ]
  },
  {
   "cell_type": "markdown",
   "metadata": {},
   "source": [
    "###  <a id=\"elbow\"></a> Elbow curve"
   ]
  },
  {
   "cell_type": "markdown",
   "metadata": {},
   "source": [
    "Let's see what the Elbow curve tells us about the appropriate number of clusters, we hope and expect this to be 4, because it would mean that those classes are \"separated\" and \"differentiated\" and therefore our work to predict them using those features is meaningful."
   ]
  },
  {
   "cell_type": "code",
   "execution_count": 29,
   "metadata": {},
   "outputs": [
    {
     "data": {
      "image/png": "[encoded data removed]",
      "text/plain": [
       "<Figure size 720x360 with 1 Axes>"
      ]
     },
     "metadata": {
      "needs_background": "light"
     },
     "output_type": "display_data"
    }
   ],
   "source": [
    "from sklearn.cluster import KMeans\n",
    "distorsions = []\n",
    "for k in range(2,16):\n",
    "    kmeans = KMeans(n_clusters=k)\n",
    "    kmeans.fit(X_standardised)\n",
    "    distorsions.append(kmeans.inertia_)\n",
    "fig = plt.figure(figsize=(10,5))\n",
    "plt.plot(range(2,16),distorsions)\n",
    "plt.grid(True)\n",
    "plt.xticks(range(2,16))\n",
    "plt.title('Elbow curve')\n",
    "plt.annotate(None, xy=(4.03, distorsions[2]+100), xytext=(10,50), \n",
    "            textcoords='offset points', ha='center', va='bottom',\n",
    "            bbox=dict(boxstyle='round,pad=0.5', fc='yellow', alpha=0.3),\n",
    "            arrowprops=dict(arrowstyle='->', connectionstyle='arc3,rad=0', \n",
    "                            color='red'))\n",
    "plt.show()"
   ]
  },
  {
   "cell_type": "markdown",
   "metadata": {},
   "source": [
    "Even if it's not the most concise and strong curvature, k=4 seems a fairly good choice for our dataset. Let's now proceed with the clustering.\n",
    "We know that in real life scenarios we don't have the ground truth labels when dealing with unsupervised algorithm, but for testing purpose we come up with a kind of accuracy score for kmeans: after the algorithm has converged we compute the mode of the real labels in each cluster, and assign that cluster to represent that precise label, then compute the accuracy and confusion matrix according to that."
   ]
  },
  {
   "cell_type": "code",
   "execution_count": 22,
   "metadata": {},
   "outputs": [
    {
     "name": "stdout",
     "output_type": "stream",
     "text": [
      "The accuracy score is 87.41%.\n",
      "\n",
      "classification_report: \n",
      "              precision    recall  f1-score   support\n",
      "\n",
      "     Classic       0.93      0.79      0.85       382\n",
      "        Jazz       0.97      0.81      0.88       350\n",
      "       Metal       0.85      0.98      0.91       406\n",
      "         Rap       0.77      0.93      0.84       244\n",
      "\n",
      "    accuracy                           0.87      1382\n",
      "   macro avg       0.88      0.88      0.87      1382\n",
      "weighted avg       0.89      0.87      0.87      1382\n",
      "\n",
      "\n"
     ]
    },
    {
     "data": {
      "image/png": "[encoded data removed]",
      "text/plain": [
       "<Figure size 432x288 with 2 Axes>"
      ]
     },
     "metadata": {
      "needs_background": "light"
     },
     "output_type": "display_data"
    }
   ],
   "source": [
    "#Our own implementation\n",
    "\n",
    "k = KMeans_plus_plus(K=4, init=\"kmeans++\", rand_seed=1)   #try not to change the seed, look at the \"Confusion_scores\" code cell to know the reason, two cells above\n",
    "y_pred = k.fit_predict(X_standardised.values).astype(np.uint8)\n",
    "_ = confusion_scores(y,y_pred)"
   ]
  },
  {
   "cell_type": "code",
   "execution_count": 23,
   "metadata": {},
   "outputs": [
    {
     "name": "stdout",
     "output_type": "stream",
     "text": [
      "The accuracy score is 88.28%.\n",
      "\n",
      "classification_report: \n",
      "              precision    recall  f1-score   support\n",
      "\n",
      "     Classic       0.85      0.98      0.91       406\n",
      "        Jazz       0.97      0.83      0.90       350\n",
      "       Metal       0.79      0.93      0.85       244\n",
      "         Rap       0.92      0.80      0.86       382\n",
      "\n",
      "    accuracy                           0.88      1382\n",
      "   macro avg       0.88      0.88      0.88      1382\n",
      "weighted avg       0.89      0.88      0.88      1382\n",
      "\n",
      "\n"
     ]
    },
    {
     "data": {
      "image/png": "[encoded data removed]",
      "text/plain": [
       "<Figure size 432x288 with 2 Axes>"
      ]
     },
     "metadata": {
      "needs_background": "light"
     },
     "output_type": "display_data"
    }
   ],
   "source": [
    "# sk-learn\n",
    "\n",
    "km = KMeans(n_clusters=4, init=\"k-means++\", random_state=1)\n",
    "y_pred_2 = km.fit_predict(X_standardised)\n",
    "_ = confusion_scores(y, y_pred_2)"
   ]
  },
  {
   "cell_type": "markdown",
   "metadata": {},
   "source": [
    "### <a id=\"eval\"></a> Clustering performance evaluation"
   ]
  },
  {
   "cell_type": "markdown",
   "metadata": {},
   "source": [
    "Evaluating the performance of a clustering algorithm is not as trivial as counting the number of errors or the precision and recall of a supervised classification algorithm. In particular any evaluation metric should not take the absolute values of the cluster labels into account but rather if this clustering define separations of the data similar to some ground truth set of classes or satisfying some assumption such that members belong to the same class are more similar than members of different classes according to some similarity metric."
   ]
  },
  {
   "cell_type": "markdown",
   "metadata": {},
   "source": [
    "how can one measure clustering goodness of fit? Supervised algorithms have lots of metrics to check their goodness of fit like accuracy, r-square value, sensitivity, specificity etc. but what can we calculate to measure the accuracy or goodness of our clustering technique? The answer to this question is Silhouette Coefficient or Silhouette score."
   ]
  },
  {
   "cell_type": "markdown",
   "metadata": {},
   "source": [
    "We can also use the silhouette score to check the optimal number of clusters."
   ]
  },
  {
   "cell_type": "markdown",
   "metadata": {},
   "source": [
    "<a id=\"silh\"></a> [**Silhouette Coefficient**](https://scikit-learn.org/stable/auto_examples/cluster/plot_kmeans_silhouette_analysis.html#sphx-glr-auto-examples-cluster-plot-kmeans-silhouette-analysis-py)  \n",
    "Silhouette score for a set of sample data points is used to measure how dense and well-separated the clusters are.  \n",
    "If the ground truth labels are not known, evaluation must be performed using the model itself. The Silhouette Coefficient (sklearn.metrics.silhouette_score) is an example of such an evaluation, where a higher Silhouette Coefficient score relates to a model with better defined clusters. The Silhouette Coefficient is defined for each sample and is composed of two scores:  \n",
    "- a: The mean distance between a sample and all other points in the same class.\n",
    "- b: The mean distance between a sample and all other points in the next nearest cluster.\n"
   ]
  },
  {
   "cell_type": "markdown",
   "metadata": {},
   "source": [
    "The Silhouette Coefficient, s, for a single sample is then given as:\n",
    "\n",
    "$$s = \\frac{b-a}{max(a,b)}$$\n",
    "\n",
    "The Silhouette Coefficient for a set of samples is given as the mean of the Silhouette Coefficient for each sample."
   ]
  },
  {
   "cell_type": "markdown",
   "metadata": {},
   "source": [
    "Silhouette coefficients (as these values are referred to as) near +1 indicate that the sample is far away from the neighboring clusters. A value of 0 indicates that the sample is on or very close to the decision boundary between two neighboring clusters and negative values indicate that those samples might have been assigned to the wrong cluster."
   ]
  },
  {
   "cell_type": "markdown",
   "metadata": {},
   "source": [
    "Note that Silhouette Coefficient is only defined if number of labels is 2 <= n_labels <= n_samples - 1."
   ]
  },
  {
   "cell_type": "markdown",
   "metadata": {},
   "source": [
    "**Advantages**\n",
    "- The score is bounded between -1 for incorrect clustering and +1 for highly dense clustering. Scores around zero indicate overlapping clusters.\n",
    "- The score is higher when clusters are dense and well separated, which relates to a standard concept of a cluster."
   ]
  },
  {
   "cell_type": "markdown",
   "metadata": {},
   "source": [
    "**Drawbacks**\n",
    "- The Silhouette Coefficient is generally higher for convex clusters than other concepts of clusters, such as density based clusters like those obtained through DBSCAN."
   ]
  },
  {
   "cell_type": "markdown",
   "metadata": {},
   "source": [
    "### <a id=\"silimp\"></a> Silhouette Implementation"
   ]
  },
  {
   "cell_type": "code",
   "execution_count": 24,
   "metadata": {},
   "outputs": [
    {
     "name": "stdout",
     "output_type": "stream",
     "text": [
      "Label 0 is closest to label 3\n",
      "Label 1 is closest to label 2\n",
      "Label 2 is closest to label 1\n",
      "Label 3 is closest to label 0\n"
     ]
    },
    {
     "data": {
      "text/plain": [
       "0.36398554829249374"
      ]
     },
     "execution_count": 24,
     "metadata": {},
     "output_type": "execute_result"
    }
   ],
   "source": [
    "\n",
    "def silhouette_score(X, y, centroids):\n",
    "    list_1 = []\n",
    "    closest_cents = nearest_cluster(centroids, centroids)\n",
    "    \n",
    "    #for each cluster and its closest cluster, do\n",
    "    for i, val in enumerate(closest_cents):\n",
    "        print(f\"Label {i} is closest to label {val}\")\n",
    "        \n",
    "        x    = X[y==i, :]\n",
    "        cent = X[y==val, :]\n",
    "        \n",
    "        d = sample_score(x, cent)\n",
    "        list_1.extend(d)\n",
    "                \n",
    "    l = X.shape[0]\n",
    "    return sum(list_1)/l\n",
    "    \n",
    "\n",
    "def nearest_cluster(centroids1, centroids2):\n",
    "    closest_cents = []\n",
    "    for val1 in centroids1 :\n",
    "        list_dist = [k.euclidean_distance(val1, val2) for val2 in centroids2]\n",
    "        \n",
    "        #dist btw a cent and itself is 0 (minimum), but we are interested in min dist btw different centroids\n",
    "        #That is, we are interested in the second min dist\n",
    "        second_min_dist = np.argsort(list_dist)[1] #sorted(range(len(list_dist)), key=lambda i: list_dist[i])[1]\n",
    "        \n",
    "        closest_cents.append(second_min_dist)\n",
    "        \n",
    "    return closest_cents\n",
    "    \n",
    "#Array of distances btw data points\n",
    "def sample_score(X1, X2):\n",
    "    \n",
    "    l1 = X1.shape[0] - 1  #-1 for excluding the data point itself\n",
    "    l2 = X2.shape[0]\n",
    "    list_sum = []\n",
    "    \n",
    "    for val1 in X1:\n",
    "        a = get_dist(val1, X1)/l1 #for any other in-cluster data point excluding val1 itself...\n",
    "        b = get_dist(val1, X2)/l2 #for all data points in the closest cluster...\n",
    "        m = max(a, b)\n",
    "        \n",
    "        s = (b-a)/m\n",
    "        list_sum.append(s)\n",
    "    return list_sum\n",
    "\n",
    "#Dist btw a single data point and all the rest\n",
    "def get_dist(val1, X2):\n",
    "    sum_for_single_data_point = sum( [k.euclidean_distance(val1, val2) for val2 in X2] )\n",
    "    return sum_for_single_data_point\n",
    "    \n",
    "    \n",
    "silh_score = silhouette_score(X_standardised.values, y_pred, k.centroids)\n",
    "silh_score\n"
   ]
  },
  {
   "cell_type": "markdown",
   "metadata": {},
   "source": [
    "##### sk-learn silhouette_score"
   ]
  },
  {
   "cell_type": "code",
   "execution_count": 25,
   "metadata": {},
   "outputs": [
    {
     "data": {
      "text/plain": [
       "0.19848175414259311"
      ]
     },
     "execution_count": 25,
     "metadata": {},
     "output_type": "execute_result"
    }
   ],
   "source": [
    "from sklearn.metrics import silhouette_score as sls\n",
    "\n",
    "sls(X = X_standardised.values, metric=\"euclidean\", labels=y_pred_2)"
   ]
  },
  {
   "cell_type": "code",
   "execution_count": 34,
   "metadata": {},
   "outputs": [
    {
     "data": {
      "image/png": "[encoded data removed]",
      "text/plain": [
       "<Figure size 1080x576 with 4 Axes>"
      ]
     },
     "metadata": {},
     "output_type": "display_data"
    }
   ],
   "source": [
    "from yellowbrick.cluster import SilhouetteVisualizer\n",
    "\n",
    "fig, ax = plt.subplots(2, 2, figsize=(15,8))\n",
    "for i in [2, 3, 4, 5]:\n",
    "    '''\n",
    "    Create KMeans instance for different number of clusters\n",
    "    '''\n",
    "    km = KMeans(n_clusters=i, init='k-means++', n_init=10, max_iter=100, random_state=42)\n",
    "    q, mod = divmod(i, 2)\n",
    "    '''\n",
    "    Create SilhouetteVisualizer instance with KMeans instance\n",
    "    Fit the visualizer\n",
    "    '''\n",
    "    visualizer = SilhouetteVisualizer(km, colors='yellowbrick', ax=ax[q-1][mod])\n",
    "    visualizer.fit(X_standardised)"
   ]
  },
  {
   "cell_type": "markdown",
   "metadata": {},
   "source": [
    "WE proceed with a quick Silhouette analysis done on the above plots to select an optimal value for n_clusters.\n",
    "The number of clusters 2 and 5 (first and last plot) looks to be non-optimal for the given data due to the following reasons:\n",
    "* A large presence of samples with negative Silhouette Score (for k = 5)\n",
    "* Wide fluctuations in the size of the silhouette plots (for k = 2 and k = 5)\n",
    "\n",
    "In conclusion 3 and 4 clusters are a better choiche in our opinion, and we are glad for it since our dataset is actually divided in 4 categories."
   ]
  },
  {
   "cell_type": "markdown",
   "metadata": {},
   "source": [
    "### <a id=\"outperform\"></a> Comparison between kmeans'"
   ]
  },
  {
   "cell_type": "markdown",
   "metadata": {},
   "source": [
    "> &emsp; We do not seek to compare kmeans and kmeans++ because, unlike kmeans furthest first, they are both entirely random. After randomly choosing first centroid, kmeans++ chooses the other k-1 centroids by giving more weight to far away points than nearby ones, which makes it more sensitive to outliers than the general kmeans. However, since it was developed as an improvement over kmeans, it does often a better clustering than kmeans. That is, far away points get large probabilities, but the probabilities of the nearby ones summed together may be large. So the sample can take any according to their proportions. "
   ]
  },
  {
   "cell_type": "markdown",
   "metadata": {},
   "source": [
    "> &emsp; One may wonder whether or not kmeans furthest first always does a better job in clustering than kmeans. The answer is that kmeans furthest first does not always outperform kmeans. A plot would help to better understand. So let's see some plots below."
   ]
  },
  {
   "cell_type": "code",
   "execution_count": 26,
   "metadata": {},
   "outputs": [],
   "source": [
    "# uniformly create data points\n",
    "\n",
    "np.random.seed(0)\n",
    "\n",
    "x1 = np.random.uniform(low=1, high=10, size=50)\n",
    "y1 = np.random.uniform(low=1, high=3, size=50)\n",
    "\n",
    "x2 = np.random.uniform(low=15, high=25, size=50)\n",
    "y2 = np.random.uniform(low=6, high=9, size=50)\n",
    "\n",
    "x_outlier = np.random.uniform(low=-20,high=-3, size=2)\n",
    "y_outlier = np.random.uniform(low=-30,high=-3, size=2)\n",
    "\n",
    "xs = np.concatenate([x1, x2, x_outlier], axis=0)\n",
    "ys = np.concatenate([y1, y2, y_outlier], axis=0)\n"
   ]
  },
  {
   "cell_type": "code",
   "execution_count": 27,
   "metadata": {},
   "outputs": [
    {
     "data": {
      "text/html": [
       "<div>\n",
       "<style scoped>\n",
       "    .dataframe tbody tr th:only-of-type {\n",
       "        vertical-align: middle;\n",
       "    }\n",
       "\n",
       "    .dataframe tbody tr th {\n",
       "        vertical-align: top;\n",
       "    }\n",
       "\n",
       "    .dataframe thead th {\n",
       "        text-align: right;\n",
       "    }\n",
       "</style>\n",
       "<table border=\"1\" class=\"dataframe\">\n",
       "  <thead>\n",
       "    <tr style=\"text-align: right;\">\n",
       "      <th></th>\n",
       "      <th>X1</th>\n",
       "      <th>X2</th>\n",
       "    </tr>\n",
       "  </thead>\n",
       "  <tbody>\n",
       "    <tr>\n",
       "      <th>0</th>\n",
       "      <td>5.939322</td>\n",
       "      <td>2.140394</td>\n",
       "    </tr>\n",
       "    <tr>\n",
       "      <th>1</th>\n",
       "      <td>7.436704</td>\n",
       "      <td>1.877203</td>\n",
       "    </tr>\n",
       "    <tr>\n",
       "      <th>2</th>\n",
       "      <td>6.424870</td>\n",
       "      <td>2.976748</td>\n",
       "    </tr>\n",
       "    <tr>\n",
       "      <th>3</th>\n",
       "      <td>5.903949</td>\n",
       "      <td>1.204090</td>\n",
       "    </tr>\n",
       "    <tr>\n",
       "      <th>4</th>\n",
       "      <td>4.812893</td>\n",
       "      <td>1.417754</td>\n",
       "    </tr>\n",
       "    <tr>\n",
       "      <th>5</th>\n",
       "      <td>6.813047</td>\n",
       "      <td>1.322619</td>\n",
       "    </tr>\n",
       "    <tr>\n",
       "      <th>6</th>\n",
       "      <td>4.938285</td>\n",
       "      <td>2.306217</td>\n",
       "    </tr>\n",
       "    <tr>\n",
       "      <th>7</th>\n",
       "      <td>9.025957</td>\n",
       "      <td>1.506583</td>\n",
       "    </tr>\n",
       "    <tr>\n",
       "      <th>8</th>\n",
       "      <td>9.672965</td>\n",
       "      <td>1.932622</td>\n",
       "    </tr>\n",
       "    <tr>\n",
       "      <th>9</th>\n",
       "      <td>4.450974</td>\n",
       "      <td>1.488851</td>\n",
       "    </tr>\n",
       "  </tbody>\n",
       "</table>\n",
       "</div>"
      ],
      "text/plain": [
       "         X1        X2\n",
       "0  5.939322  2.140394\n",
       "1  7.436704  1.877203\n",
       "2  6.424870  2.976748\n",
       "3  5.903949  1.204090\n",
       "4  4.812893  1.417754\n",
       "5  6.813047  1.322619\n",
       "6  4.938285  2.306217\n",
       "7  9.025957  1.506583\n",
       "8  9.672965  1.932622\n",
       "9  4.450974  1.488851"
      ]
     },
     "execution_count": 27,
     "metadata": {},
     "output_type": "execute_result"
    }
   ],
   "source": [
    "dat = pd.DataFrame(list(zip(xs, ys)), columns = [\"X1\", \"X2\"])\n",
    "dat.head(10)"
   ]
  },
  {
   "cell_type": "code",
   "execution_count": 28,
   "metadata": {},
   "outputs": [
    {
     "data": {
      "image/png": "[encoded data removed]",
      "text/plain": [
       "<Figure size 216x144 with 1 Axes>"
      ]
     },
     "metadata": {
      "needs_background": "light"
     },
     "output_type": "display_data"
    },
    {
     "data": {
      "image/png": "[encoded data removed]",
      "text/plain": [
       "<Figure size 216x144 with 1 Axes>"
      ]
     },
     "metadata": {
      "needs_background": "light"
     },
     "output_type": "display_data"
    },
    {
     "data": {
      "image/png": "[encoded data removed]",
      "text/plain": [
       "<Figure size 216x144 with 1 Axes>"
      ]
     },
     "metadata": {
      "needs_background": "light"
     },
     "output_type": "display_data"
    },
    {
     "data": {
      "image/png": "[encoded data removed]",
      "text/plain": [
       "<Figure size 216x144 with 1 Axes>"
      ]
     },
     "metadata": {
      "needs_background": "light"
     },
     "output_type": "display_data"
    }
   ],
   "source": [
    "#kmeans beats Kmeans Furthest First for this toy example\n",
    "def testing_inits(k=2, init=None, rand_seed=None):\n",
    "    k_toy = KMeans_plus_plus(K=k, init=init, rand_seed=rand_seed)\n",
    "    pred_k_toy = k_toy.fit_predict(dat.values)\n",
    "    k_toy.centroids = np.array(k_toy.centroids)\n",
    "    \n",
    "    plt.figure(figsize=(3,2))\n",
    "    plt.scatter(dat[\"X1\"], dat[\"X2\"], c=pred_k_toy)\n",
    "    \n",
    "    plt.scatter(k_toy.centroids[:, 0], k_toy.centroids[:, 1], marker = \"*\", linewidths=4, c=\"red\")\n",
    "    plt.title(init + \" with random seed of \" + str(rand_seed))\n",
    "    plt.show()\n",
    "\n",
    "#pred_k_toy, k_toy.centroids#, k_toy.clusters\n",
    "\n",
    "k_p = testing_inits(k=2, init=\"furthest_first\",rand_seed=1)\n",
    "k1 = testing_inits(k=2, init=\"kmeans\",rand_seed=1)\n",
    "k1 = testing_inits(k=2, init=\"kmeans++\",rand_seed=1)\n",
    "k1 = testing_inits(k=2, init=\"kmeans++\",rand_seed=5)\n",
    "\n",
    "# _, ax = plt.subplots(2, 2, figsize=(10,7))\n",
    "# d = {0: [\"K-means\", \" with random seed of 1\", [0,0], 1], 1: [\"K-means++\", \" with random seed of 1\",[1,0], 1], 3: [\"K-means Furthest First\", \" with random seed of 1\", [0,1], 1], 2: [\"kmeans++\", \" with random seed of 5\", [1,1], 5]}\n",
    "# for i in range(4):\n",
    "#     n,j = d[i][2]\n",
    "#     kp = KMeans_plus_plus(K=2, init=d[i][0], rand_seed=d[i][-1])\n",
    "#     pred = kp.fit_predict(dat.values)\n",
    "#     ax[n][j].scatter(dat[\"X1\"], dat[\"X2\"], c=pred)\n",
    "    \n",
    "#     kp.centroids = np.asarray(kp.centroids)\n",
    "#     ax[n][j].scatter(kp.centroids[:, 0], kp.centroids[:, 1], marker = \"*\", linewidths=4, c=\"red\")\n",
    "#     ax[n][j].set_title(d[i][0] + d[i][1])"
   ]
  },
  {
   "cell_type": "markdown",
   "metadata": {},
   "source": [
    "From this toy example, when k=2, kmeans clusters the data better. However, for other k values, either Kmeans Furthest First outperforms it or they are on a par with each other. Therefore, We can conclude that Kmeans Furthest First is sensitive to outliers and does not always outperform kmeans"
   ]
  }
 ],
 "metadata": {
  "kernelspec": {
   "display_name": "Python 3.8.13 64-bit ('3.8.13')",
   "language": "python",
   "name": "python3"
  },
  "language_info": {
   "codemirror_mode": {
    "name": "ipython",
    "version": 3
   },
   "file_extension": ".py",
   "mimetype": "text/x-python",
   "name": "python",
   "nbconvert_exporter": "python",
   "pygments_lexer": "ipython3",
   "version": "3.8.13"
  },
  "orig_nbformat": 4,
  "vscode": {
   "interpreter": {
    "hash": "110cc1dee26208153f2972f08a2ad52b6a56238dc66d48e87fb757ef2996db56"
   }
  }
 },
 "nbformat": 4,
 "nbformat_minor": 2
}
